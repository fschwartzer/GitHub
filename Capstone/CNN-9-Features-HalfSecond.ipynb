{
 "cells": [
  {
   "cell_type": "markdown",
   "metadata": {},
   "source": [
    "# Convolutional Neural Network (CNN) com 9 atributos\n",
    "\n",
    "## Utilização dos atributos Acelerômetro, Som, Orientação, Aceleração Linear, Giroscópio, Vetor de Rotação, Vetor de Rotação para Jogos, Giroscópio descalibrado e Velocidade."
   ]
  },
  {
   "cell_type": "markdown",
   "metadata": {},
   "source": [
    "### Instalação de recursos no notebook"
   ]
  },
  {
   "cell_type": "code",
   "execution_count": 1,
   "metadata": {},
   "outputs": [
    {
     "name": "stdout",
     "output_type": "stream",
     "text": [
      "Requirement already up-to-date: pip in /home/ec2-user/anaconda3/envs/python3/lib/python3.6/site-packages (18.1)\n",
      "Requirement already satisfied: keras in /home/ec2-user/anaconda3/envs/python3/lib/python3.6/site-packages (2.2.4)\n",
      "Requirement already satisfied: h5py in /home/ec2-user/anaconda3/envs/python3/lib/python3.6/site-packages (from keras) (2.8.0)\n",
      "Requirement already satisfied: keras-applications>=1.0.6 in /home/ec2-user/anaconda3/envs/python3/lib/python3.6/site-packages (from keras) (1.0.6)\n",
      "Requirement already satisfied: numpy>=1.9.1 in /home/ec2-user/anaconda3/envs/python3/lib/python3.6/site-packages (from keras) (1.14.5)\n",
      "Requirement already satisfied: keras-preprocessing>=1.0.5 in /home/ec2-user/anaconda3/envs/python3/lib/python3.6/site-packages (from keras) (1.0.5)\n",
      "Requirement already satisfied: six>=1.9.0 in /home/ec2-user/anaconda3/envs/python3/lib/python3.6/site-packages (from keras) (1.11.0)\n",
      "Requirement already satisfied: scipy>=0.14 in /home/ec2-user/anaconda3/envs/python3/lib/python3.6/site-packages (from keras) (1.1.0)\n",
      "Requirement already satisfied: pyyaml in /home/ec2-user/anaconda3/envs/python3/lib/python3.6/site-packages (from keras) (3.12)\n",
      "Requirement already satisfied: tensorflow in /home/ec2-user/anaconda3/envs/python3/lib/python3.6/site-packages (1.12.0)\n",
      "Requirement already satisfied: absl-py>=0.1.6 in /home/ec2-user/anaconda3/envs/python3/lib/python3.6/site-packages (from tensorflow) (0.6.1)\n",
      "Requirement already satisfied: gast>=0.2.0 in /home/ec2-user/anaconda3/envs/python3/lib/python3.6/site-packages (from tensorflow) (0.2.0)\n",
      "Requirement already satisfied: termcolor>=1.1.0 in /home/ec2-user/anaconda3/envs/python3/lib/python3.6/site-packages (from tensorflow) (1.1.0)\n",
      "Requirement already satisfied: protobuf>=3.6.1 in /home/ec2-user/anaconda3/envs/python3/lib/python3.6/site-packages (from tensorflow) (3.6.1)\n",
      "Requirement already satisfied: keras-preprocessing>=1.0.5 in /home/ec2-user/anaconda3/envs/python3/lib/python3.6/site-packages (from tensorflow) (1.0.5)\n",
      "Requirement already satisfied: wheel>=0.26 in /home/ec2-user/anaconda3/envs/python3/lib/python3.6/site-packages (from tensorflow) (0.31.1)\n",
      "Requirement already satisfied: tensorboard<1.13.0,>=1.12.0 in /home/ec2-user/anaconda3/envs/python3/lib/python3.6/site-packages (from tensorflow) (1.12.1)\n",
      "Requirement already satisfied: grpcio>=1.8.6 in /home/ec2-user/anaconda3/envs/python3/lib/python3.6/site-packages (from tensorflow) (1.17.1)\n",
      "Requirement already satisfied: astor>=0.6.0 in /home/ec2-user/anaconda3/envs/python3/lib/python3.6/site-packages (from tensorflow) (0.7.1)\n",
      "Requirement already satisfied: numpy>=1.13.3 in /home/ec2-user/anaconda3/envs/python3/lib/python3.6/site-packages (from tensorflow) (1.14.5)\n",
      "Requirement already satisfied: keras-applications>=1.0.6 in /home/ec2-user/anaconda3/envs/python3/lib/python3.6/site-packages (from tensorflow) (1.0.6)\n",
      "Requirement already satisfied: six>=1.10.0 in /home/ec2-user/anaconda3/envs/python3/lib/python3.6/site-packages (from tensorflow) (1.11.0)\n",
      "Requirement already satisfied: setuptools in /home/ec2-user/anaconda3/envs/python3/lib/python3.6/site-packages (from protobuf>=3.6.1->tensorflow) (39.1.0)\n",
      "Requirement already satisfied: werkzeug>=0.11.10 in /home/ec2-user/anaconda3/envs/python3/lib/python3.6/site-packages (from tensorboard<1.13.0,>=1.12.0->tensorflow) (0.14.1)\n",
      "Requirement already satisfied: markdown>=2.6.8 in /home/ec2-user/anaconda3/envs/python3/lib/python3.6/site-packages (from tensorboard<1.13.0,>=1.12.0->tensorflow) (3.0.1)\n",
      "Requirement already satisfied: h5py in /home/ec2-user/anaconda3/envs/python3/lib/python3.6/site-packages (from keras-applications>=1.0.6->tensorflow) (2.8.0)\n",
      "Requirement already satisfied: pydot in /home/ec2-user/anaconda3/envs/python3/lib/python3.6/site-packages (1.4.1)\n",
      "Requirement already satisfied: pyparsing>=2.1.4 in /home/ec2-user/anaconda3/envs/python3/lib/python3.6/site-packages (from pydot) (2.2.0)\n"
     ]
    }
   ],
   "source": [
    "import sys\n",
    "!{sys.executable} -m pip install --upgrade pip\n",
    "!{sys.executable} -m pip install keras\n",
    "!{sys.executable} -m pip install tensorflow\n",
    "!{sys.executable} -m pip install pydot"
   ]
  },
  {
   "cell_type": "markdown",
   "metadata": {},
   "source": [
    "### Importação de bibliotecas e carregamento do arquivo (Janela de 0.5 segundos)"
   ]
  },
  {
   "cell_type": "code",
   "execution_count": 2,
   "metadata": {},
   "outputs": [],
   "source": [
    "import pandas as pd \n",
    "import seaborn as sns\n",
    "import matplotlib.pyplot as plt\n",
    "import numpy as np\n",
    "\n",
    "data = pd.read_csv('dataset_halfSecondWindow[3].csv')"
   ]
  },
  {
   "cell_type": "markdown",
   "metadata": {},
   "source": [
    "### Divisão da base de dados em dados de treino e teste"
   ]
  },
  {
   "cell_type": "code",
   "execution_count": 3,
   "metadata": {},
   "outputs": [
    {
     "name": "stdout",
     "output_type": "stream",
     "text": [
      "['Bus' 'Car' 'Walking' 'Train' 'Still']\n",
      "----------------------------------------\n",
      "Car        10096\n",
      "Bus        10030\n",
      "Still      10019\n",
      "Train       9978\n",
      "Walking     9945\n",
      "Name: target, dtype: int64\n"
     ]
    },
    {
     "name": "stderr",
     "output_type": "stream",
     "text": [
      "/home/ec2-user/anaconda3/envs/python3/lib/python3.6/site-packages/sklearn/cross_validation.py:41: DeprecationWarning: This module was deprecated in version 0.18 in favor of the model_selection module into which all the refactored classes and functions are moved. Also note that the interface of the new CV iterators are different from that of this module. This module will be removed in 0.20.\n",
      "  \"This module will be removed in 0.20.\", DeprecationWarning)\n"
     ]
    }
   ],
   "source": [
    "from sklearn.cross_validation import train_test_split\n",
    "df, test = train_test_split(data, test_size = 0.2, random_state = 0)\n",
    "\n",
    "df.T\n",
    "\n",
    "print(df.target.unique())\n",
    "print(\"----------------------------------------\")\n",
    "print(df.target.value_counts())"
   ]
  },
  {
   "cell_type": "markdown",
   "metadata": {},
   "source": [
    "### Verificação das quantidades de dados para cada um dos rótulos"
   ]
  },
  {
   "cell_type": "code",
   "execution_count": 4,
   "metadata": {},
   "outputs": [
    {
     "data": {
      "image/png": "[encoded data removed]",
      "text/plain": [
       "<Figure size 936x432 with 1 Axes>"
      ]
     },
     "metadata": {},
     "output_type": "display_data"
    }
   ],
   "source": [
    "sns.set(rc={'figure.figsize':(13,6)})\n",
    "fig = sns.countplot(x = \"target\" , data = df)\n",
    "plt.xlabel(\"Transportation Mode\")\n",
    "plt.ylabel(\"Count\")\n",
    "plt.title(\"Transportation Mode Using Count\")\n",
    "plt.grid(True)\n",
    "plt.show(fig)"
   ]
  },
  {
   "cell_type": "markdown",
   "metadata": {},
   "source": [
    "### Verificação das dimensões dos dados de treino e dos dados de teste e dos nomes dos atributos"
   ]
  },
  {
   "cell_type": "code",
   "execution_count": 5,
   "metadata": {},
   "outputs": [
    {
     "name": "stdout",
     "output_type": "stream",
     "text": [
      "(50068, 38) (12517, 38)\n"
     ]
    },
    {
     "data": {
      "text/plain": [
       "Index(['time', 'android.sensor.accelerometer#mean',\n",
       "       'android.sensor.accelerometer#min', 'android.sensor.accelerometer#max',\n",
       "       'android.sensor.accelerometer#std',\n",
       "       'android.sensor.game_rotation_vector#mean',\n",
       "       'android.sensor.game_rotation_vector#min',\n",
       "       'android.sensor.game_rotation_vector#max',\n",
       "       'android.sensor.game_rotation_vector#std',\n",
       "       'android.sensor.gyroscope#mean', 'android.sensor.gyroscope#min',\n",
       "       'android.sensor.gyroscope#max', 'android.sensor.gyroscope#std',\n",
       "       'android.sensor.gyroscope_uncalibrated#mean',\n",
       "       'android.sensor.gyroscope_uncalibrated#min',\n",
       "       'android.sensor.gyroscope_uncalibrated#max',\n",
       "       'android.sensor.gyroscope_uncalibrated#std',\n",
       "       'android.sensor.linear_acceleration#mean',\n",
       "       'android.sensor.linear_acceleration#min',\n",
       "       'android.sensor.linear_acceleration#max',\n",
       "       'android.sensor.linear_acceleration#std',\n",
       "       'android.sensor.orientation#mean', 'android.sensor.orientation#min',\n",
       "       'android.sensor.orientation#max', 'android.sensor.orientation#std',\n",
       "       'android.sensor.rotation_vector#mean',\n",
       "       'android.sensor.rotation_vector#min',\n",
       "       'android.sensor.rotation_vector#max',\n",
       "       'android.sensor.rotation_vector#std', 'sound#mean', 'sound#min',\n",
       "       'sound#max', 'sound#std', 'speed#mean', 'speed#min', 'speed#max',\n",
       "       'speed#std', 'target'],\n",
       "      dtype='object')"
      ]
     },
     "execution_count": 5,
     "metadata": {},
     "output_type": "execute_result"
    }
   ],
   "source": [
    "print(df.shape , test.shape)\n",
    "\n",
    "df.columns"
   ]
  },
  {
   "cell_type": "markdown",
   "metadata": {},
   "source": [
    "### Verificação da dimensionalidade de alguns atributos"
   ]
  },
  {
   "cell_type": "code",
   "execution_count": 6,
   "metadata": {},
   "outputs": [
    {
     "data": {
      "image/png": "[encoded data removed]",
      "text/plain": [
       "<Figure size 1080x360 with 1 Axes>"
      ]
     },
     "metadata": {},
     "output_type": "display_data"
    },
    {
     "data": {
      "image/png": "[encoded data removed]",
      "text/plain": [
       "<Figure size 1080x360 with 1 Axes>"
      ]
     },
     "metadata": {},
     "output_type": "display_data"
    },
    {
     "data": {
      "image/png": "[encoded data removed]",
      "text/plain": [
       "<Figure size 1080x360 with 1 Axes>"
      ]
     },
     "metadata": {},
     "output_type": "display_data"
    }
   ],
   "source": [
    "sns.set(rc={'figure.figsize':(15,5)})\n",
    "fig1 = sns.stripplot(x='target', y= 'android.sensor.accelerometer#mean', data= df, jitter=True)\n",
    "plt.title(\"Feature Distribution\")\n",
    "plt.grid(True)\n",
    "plt.show(fig)\n",
    "\n",
    "sns.set(rc={'figure.figsize':(15,5)})\n",
    "fig1 = sns.stripplot(x='target', y= 'android.sensor.gyroscope#mean', data= df, jitter=True)\n",
    "plt.title(\"Feature Distribution\")\n",
    "plt.grid(True)\n",
    "plt.show(fig)\n",
    "\n",
    "sns.set(rc={'figure.figsize':(15,5)})\n",
    "fig1 = sns.stripplot(x='target', y= 'sound#mean', data= df, jitter=True)\n",
    "plt.title(\"Feature Distribution\")\n",
    "plt.grid(True)\n",
    "plt.show(fig)"
   ]
  },
  {
   "cell_type": "markdown",
   "metadata": {},
   "source": [
    "### Redimensionamento dos atributos"
   ]
  },
  {
   "cell_type": "code",
   "execution_count": 7,
   "metadata": {},
   "outputs": [
    {
     "name": "stdout",
     "output_type": "stream",
     "text": [
      "[[0.07669789 0.19454112 0.23763334 ... 0.         0.         0.        ]\n",
      " [0.03307963 0.18974781 0.21774556 ... 0.20882481 0.20882481 0.        ]\n",
      " [0.06879391 0.30070485 0.26279945 ... 0.02856026 0.02856026 0.        ]\n",
      " ...\n",
      " [0.08752927 0.18969198 0.23887143 ... 0.         0.         0.        ]\n",
      " [0.12265808 0.20891269 0.25422392 ... 0.         0.         0.        ]\n",
      " [0.07830796 0.27204617 0.30821231 ... 0.         0.         0.        ]]\n",
      "[[0.05294031 0.32850395 0.29609156 ... 0.         0.         0.        ]\n",
      " [0.00527937 0.3256498  0.36611251 ... 0.         0.         0.        ]\n",
      " [0.17289925 0.28862582 0.3065007  ... 0.63278742 0.63278742 0.        ]\n",
      " ...\n",
      " [0.25296964 0.29916603 0.34102481 ... 0.         0.         0.        ]\n",
      " [0.42938847 0.26882174 0.31269427 ... 0.         0.         0.        ]\n",
      " [0.01789119 0.30911141 0.31541114 ... 0.05154339 0.05154339 0.        ]]\n"
     ]
    }
   ],
   "source": [
    "from sklearn.preprocessing import MinMaxScaler\n",
    "scaler = MinMaxScaler()\n",
    "scaler.fit(df.iloc[:,0:37])\n",
    "mat_train = scaler.transform(df.iloc[:,0:37])\n",
    "print(mat_train)\n",
    "\n",
    "scaler = MinMaxScaler()\n",
    "scaler.fit(test.iloc[:,0:37])\n",
    "mat_test = scaler.transform(test.iloc[:,0:37])\n",
    "print(mat_test)"
   ]
  },
  {
   "cell_type": "markdown",
   "metadata": {},
   "source": [
    "### Codificação das variáveis dependentes"
   ]
  },
  {
   "cell_type": "code",
   "execution_count": 8,
   "metadata": {},
   "outputs": [
    {
     "name": "stderr",
     "output_type": "stream",
     "text": [
      "/home/ec2-user/anaconda3/envs/python3/lib/python3.6/site-packages/ipykernel/__main__.py:8: SettingWithCopyWarning: \n",
      "A value is trying to be set on a copy of a slice from a DataFrame.\n",
      "Try using .loc[row_indexer,col_indexer] = value instead\n",
      "\n",
      "See the caveats in the documentation: http://pandas.pydata.org/pandas-docs/stable/indexing.html#indexing-view-versus-copy\n",
      "/home/ec2-user/anaconda3/envs/python3/lib/python3.6/site-packages/ipykernel/__main__.py:17: SettingWithCopyWarning: \n",
      "A value is trying to be set on a copy of a slice from a DataFrame.\n",
      "Try using .loc[row_indexer,col_indexer] = value instead\n",
      "\n",
      "See the caveats in the documentation: http://pandas.pydata.org/pandas-docs/stable/indexing.html#indexing-view-versus-copy\n"
     ]
    }
   ],
   "source": [
    "temp = []\n",
    "for i in df.target:\n",
    "    if i == \"Car\": temp.append(0)\n",
    "    if i == \"Walking\": temp.append(1)\n",
    "    if i == \"Train\": temp.append(2)\n",
    "    if i == \"Bus\": temp.append(3)\n",
    "    if i == \"Still\": temp.append(4)\n",
    "df[\"n_Target\"] = temp\n",
    "\n",
    "temp = []\n",
    "for i in test.target:\n",
    "    if i == \"Car\": temp.append(0)\n",
    "    if i == \"Walking\": temp.append(1)\n",
    "    if i == \"Train\": temp.append(2)\n",
    "    if i == \"Bus\": temp.append(3)\n",
    "    if i == \"Still\": temp.append(4)\n",
    "test[\"n_Target\"] = temp"
   ]
  },
  {
   "cell_type": "markdown",
   "metadata": {},
   "source": [
    "### Isolando as variáveis dependentes"
   ]
  },
  {
   "cell_type": "code",
   "execution_count": 9,
   "metadata": {},
   "outputs": [],
   "source": [
    "y_train = df[\"n_Target\"]\n",
    "\n",
    "y_test = test[\"n_Target\"]"
   ]
  },
  {
   "cell_type": "markdown",
   "metadata": {},
   "source": [
    "### Preparação dos dados para a rede neural"
   ]
  },
  {
   "cell_type": "code",
   "execution_count": 10,
   "metadata": {},
   "outputs": [
    {
     "name": "stderr",
     "output_type": "stream",
     "text": [
      "Using TensorFlow backend.\n"
     ]
    },
    {
     "name": "stdout",
     "output_type": "stream",
     "text": [
      "(50068, 37, 1) (50068, 5)\n",
      "(12517, 37, 1) (12517, 5)\n"
     ]
    }
   ],
   "source": [
    "import keras\n",
    "from keras.utils import to_categorical\n",
    "\n",
    "y_train = to_categorical(df.n_Target , num_classes=5)\n",
    "y_test = to_categorical(test.n_Target , num_classes=5)\n",
    "\n",
    "X_train = mat_train\n",
    "X_test = mat_test\n",
    "\n",
    "X_test = np.expand_dims(X_test, axis=2)\n",
    "X_train = np.expand_dims(X_train, axis=2)\n",
    "\n",
    "\n",
    "print(X_train.shape , y_train.shape)\n",
    "print(X_test.shape , y_test.shape)"
   ]
  },
  {
   "cell_type": "markdown",
   "metadata": {},
   "source": [
    "### Ajuste e validação do modelo\n",
    "Nesse primeiro momento, os hiperparâmetros foram definidos de forma arbitrária."
   ]
  },
  {
   "cell_type": "code",
   "execution_count": 11,
   "metadata": {},
   "outputs": [
    {
     "name": "stdout",
     "output_type": "stream",
     "text": [
      ">#1: 91.883\n",
      ">#2: 90.812\n",
      ">#3: 91.851\n",
      ">#4: 92.426\n",
      ">#5: 92.810\n",
      ">#6: 88.176\n",
      ">#7: 19.350\n",
      ">#8: 89.366\n",
      ">#9: 88.224\n",
      ">#10: 90.725\n",
      "[91.88303906686906, 90.81249500726696, 91.85108252776224, 92.4263002321611, 92.80977870144288, 88.17608053095474, 19.349684429295365, 89.3664616126836, 88.22401533913877, 90.72461452424703]\n",
      "Accuracy: 83.562% (+/-21.461)\n"
     ]
    }
   ],
   "source": [
    "from numpy import mean\n",
    "from numpy import std\n",
    "from pandas import read_csv\n",
    "from matplotlib import pyplot\n",
    "from keras.models import Sequential\n",
    "from keras.layers import Dense\n",
    "from keras.layers import Flatten\n",
    "from keras.layers import Dropout\n",
    "from keras.layers.convolutional import Conv1D\n",
    "from keras.layers.convolutional import MaxPooling1D\n",
    "from keras.utils import to_categorical\n",
    "\n",
    "# Ajustando e validando um modelo\n",
    "def evaluate_model(X_train, y_train, X_test, y_test):\n",
    "    verbose, epochs, batch_size = 0, 10, 32\n",
    "    n_timesteps, n_features, n_outputs = X_train.shape[1], X_train.shape[2], y_train.shape[1]\n",
    "    model = Sequential()\n",
    "    model.add(Conv1D(2,2,activation='relu',input_shape=(37, 1)))\n",
    "    model.add(Conv1D(filters=100, kernel_size=3, activation='relu', input_shape=(n_timesteps,n_features)))\n",
    "    model.add(Conv1D(filters=100, kernel_size=3, activation='relu'))\n",
    "    model.add(Dropout(0.5))\n",
    "    model.add(MaxPooling1D(pool_size=2))\n",
    "    model.add(Flatten())\n",
    "    model.add(Dense(100, activation='relu'))\n",
    "    model.add(Dense(n_outputs, activation='softmax'))\n",
    "    model.compile(loss='categorical_crossentropy', optimizer='adam', metrics=['accuracy'])\n",
    "    # Ajustando a rede\n",
    "    model.fit(X_train, y_train, epochs=epochs, batch_size=batch_size, verbose=verbose)\n",
    "    # Validando o modelo\n",
    "    _, accuracy = model.evaluate(X_test, y_test, batch_size=batch_size, verbose=0)\n",
    "    return accuracy\n",
    "\n",
    "# Resumindo as pontuações\n",
    "def summarize_results(scores):\n",
    "    print(scores)\n",
    "    m, s = mean(scores), std(scores)\n",
    "    print('Accuracy: %.3f%% (+/-%.3f)' % (m, s))\n",
    "\n",
    "# Rodando um experimento\n",
    "def run_experiment(repeats=10):\n",
    "    # Repetindo um experimento\n",
    "    scores = list()\n",
    "    for r in range(repeats):\n",
    "        score = evaluate_model(X_train, y_train, X_test, y_test)\n",
    "        score = score * 100.0\n",
    "        print('>#%d: %.3f' % (r+1, score))\n",
    "        scores.append(score)\n",
    "    # Resumindo os resultados\n",
    "    summarize_results(scores)\n",
    "\n",
    "# Rodando o experimento\n",
    "run_experiment()"
   ]
  },
  {
   "cell_type": "markdown",
   "metadata": {},
   "source": [
    "### Testando o hiperparâmetro \"filters'"
   ]
  },
  {
   "cell_type": "code",
   "execution_count": 12,
   "metadata": {},
   "outputs": [
    {
     "name": "stdout",
     "output_type": "stream",
     "text": [
      ">p=8 #1: 79.859\n",
      ">p=8 #2: 82.576\n",
      ">p=8 #3: 77.063\n",
      ">p=8 #4: 83.111\n",
      ">p=8 #5: 77.742\n",
      ">p=8 #6: 73.300\n",
      ">p=8 #7: 76.983\n",
      ">p=8 #8: 73.899\n",
      ">p=8 #9: 79.380\n",
      ">p=8 #10: 79.891\n",
      ">p=16 #1: 84.805\n",
      ">p=16 #2: 87.401\n",
      ">p=16 #3: 85.468\n",
      ">p=16 #4: 84.661\n",
      ">p=16 #5: 84.269\n",
      ">p=16 #6: 85.779\n",
      ">p=16 #7: 84.885\n",
      ">p=16 #8: 86.954\n",
      ">p=16 #9: 87.377\n",
      ">p=16 #10: 84.773\n",
      ">p=32 #1: 88.360\n",
      ">p=32 #2: 88.863\n",
      ">p=32 #3: 89.550\n",
      ">p=32 #4: 87.960\n",
      ">p=32 #5: 90.117\n",
      ">p=32 #6: 88.280\n",
      ">p=32 #7: 88.152\n",
      ">p=32 #8: 88.631\n",
      ">p=32 #9: 88.679\n",
      ">p=32 #10: 87.944\n",
      ">p=64 #1: 90.285\n",
      ">p=64 #2: 89.958\n",
      ">p=64 #3: 90.197\n",
      ">p=64 #4: 91.348\n",
      ">p=64 #5: 90.964\n",
      ">p=64 #6: 90.469\n",
      ">p=64 #7: 91.220\n",
      ">p=64 #8: 92.075\n",
      ">p=64 #9: 90.373\n",
      ">p=64 #10: 90.381\n",
      ">p=128 #1: 92.578\n",
      ">p=128 #2: 91.540\n",
      ">p=128 #3: 91.699\n",
      ">p=128 #4: 91.044\n",
      ">p=128 #5: 93.864\n",
      ">p=128 #6: 91.891\n",
      ">p=128 #7: 92.003\n",
      ">p=128 #8: 93.417\n",
      ">p=128 #9: 91.587\n",
      ">p=128 #10: 91.196\n",
      ">p=256 #1: 92.418\n",
      ">p=256 #2: 93.113\n",
      ">p=256 #3: 92.658\n",
      ">p=256 #4: 92.330\n",
      ">p=256 #5: 93.345\n",
      ">p=256 #6: 92.706\n",
      ">p=256 #7: 92.027\n",
      ">p=256 #8: 93.345\n",
      ">p=256 #9: 91.516\n",
      ">p=256 #10: 92.442\n",
      "[[79.85939122840621, 82.57569705248545, 77.06319405655991, 83.1109690825246, 77.74227051257972, 73.30031157673248, 76.98330270879288, 73.89949668498525, 79.38004314180398, 79.89134776703682], [84.8046656547096, 87.40113445761449, 85.46776384165219, 84.66086122920512, 84.26939362467046, 85.77934009794363, 84.88455700295282, 86.95374290964288, 87.37716705280818, 84.77270911607897], [88.35983063081892, 88.86314612175126, 89.55021171254776, 87.96037389198374, 90.11744028121754, 88.27993928305189, 88.15211312614844, 88.63146121322684, 88.67939602188707, 87.94439562195414], [90.28521211152832, 89.95765758615966, 90.19733162946078, 91.34776703682991, 90.96428856754814, 90.4689622113925, 91.21994088087885, 92.07477830150995, 90.37309259407206, 90.38108172932495], [92.57809379244227, 91.5395062714708, 91.69928896748107, 91.04417991579136, 93.86434449149156, 91.89102820164577, 92.0028760889958, 93.41695294399617, 91.58744108013103, 91.19597347607254], [92.4183110973844, 93.11336582295762, 92.65798514020932, 92.33043061436447, 93.34505073148203, 92.70591994934573, 92.02684349284972, 93.34505073148203, 91.51553886761687, 92.4422785017145]] [8, 16, 32, 64, 128, 256]\n",
      "Param=8: 78.381% (+/-3.089)\n",
      "Param=16: 85.637% (+/-1.129)\n",
      "Param=32: 88.654% (+/-0.667)\n",
      "Param=64: 90.727% (+/-0.623)\n",
      "Param=128: 92.082% (+/-0.883)\n",
      "Param=256: 92.590% (+/-0.550)\n"
     ]
    },
    {
     "data": {
      "image/png": "[encoded data removed]",
      "text/plain": [
       "<Figure size 1080x360 with 1 Axes>"
      ]
     },
     "metadata": {},
     "output_type": "display_data"
    }
   ],
   "source": [
    "# Ajustando e validando um modelo\n",
    "def evaluate_model(X_train, y_train, X_test, y_test, n_filters):\n",
    "    verbose, epochs, batch_size = 0, 10, 32\n",
    "    n_timesteps, n_features, n_outputs = X_train.shape[1], X_train.shape[2], y_train.shape[1]\n",
    "    model = Sequential()\n",
    "    model.add(Conv1D(filters=n_filters, kernel_size=3, activation='relu', input_shape=(n_timesteps,n_features)))\n",
    "    model.add(Conv1D(filters=n_filters, kernel_size=3, activation='relu'))\n",
    "    model.add(Dropout(0.5))\n",
    "    model.add(MaxPooling1D(pool_size=2))\n",
    "    model.add(Flatten())\n",
    "    model.add(Dense(100, activation='relu'))\n",
    "    model.add(Dense(n_outputs, activation='softmax'))\n",
    "    model.compile(loss='categorical_crossentropy', optimizer='adam', metrics=['accuracy'])\n",
    "    # Ajustando a rede\n",
    "    model.fit(X_train, y_train, epochs=epochs, batch_size=batch_size, verbose=verbose)\n",
    "    # Validando o modelo\n",
    "    _, accuracy = model.evaluate(X_test, y_test, batch_size=batch_size, verbose=0)\n",
    "    return accuracy\n",
    " \n",
    "# Resumindo as pontuações\n",
    "def summarize_results(scores, params):\n",
    "    print(scores, params)\n",
    "    # Resumindo média e desvio padrão\n",
    "    for i in range(len(scores)):\n",
    "        m, s = mean(scores[i]), std(scores[i])\n",
    "        print('Param=%d: %.3f%% (+/-%.3f)' % (params[i], m, s))\n",
    "    # Boxplot das pontuações\n",
    "    pyplot.boxplot(scores, labels=params)\n",
    "    pyplot.savefig('exp_cnn_filters.png')\n",
    " \n",
    "# Rodando um experimento\n",
    "def run_experiment(params, repeats=10):\n",
    "    # Testando cada parâmetro\n",
    "    all_scores = list()\n",
    "    for p in params:\n",
    "        # Repetindo o experimento\n",
    "        scores = list()\n",
    "        for r in range(repeats):\n",
    "            score = evaluate_model(X_train, y_train, X_test, y_test, p)\n",
    "            score = score * 100.0\n",
    "            print('>p=%d #%d: %.3f' % (p, r+1, score))\n",
    "            scores.append(score)\n",
    "        all_scores.append(scores)\n",
    "    # Resumindo os resultados\n",
    "    summarize_results(all_scores, params)\n",
    " \n",
    "# Rodando os experimentos\n",
    "n_params = [8, 16, 32, 64, 128, 256]\n",
    "run_experiment(n_params)"
   ]
  },
  {
   "cell_type": "markdown",
   "metadata": {},
   "source": [
    "### Avaliando o hiperparâmetro \"kernel\""
   ]
  },
  {
   "cell_type": "code",
   "execution_count": 12,
   "metadata": {},
   "outputs": [
    {
     "name": "stdout",
     "output_type": "stream",
     "text": [
      ">p=2 #1: 90.757\n",
      ">p=2 #2: 90.757\n",
      ">p=2 #3: 89.838\n",
      ">p=2 #4: 92.115\n",
      ">p=2 #5: 91.747\n",
      ">p=2 #6: 91.723\n",
      ">p=2 #7: 91.763\n",
      ">p=2 #8: 91.364\n",
      ">p=2 #9: 92.418\n",
      ">p=2 #10: 91.124\n",
      ">p=3 #1: 93.201\n",
      ">p=3 #2: 92.562\n",
      ">p=3 #3: 92.994\n",
      ">p=3 #4: 93.113\n",
      ">p=3 #5: 93.161\n",
      ">p=3 #6: 92.818\n",
      ">p=3 #7: 93.329\n",
      ">p=3 #8: 91.611\n",
      ">p=3 #9: 93.217\n",
      ">p=3 #10: 92.594\n",
      ">p=5 #1: 93.968\n",
      ">p=5 #2: 93.129\n",
      ">p=5 #3: 94.008\n",
      ">p=5 #4: 93.832\n",
      ">p=5 #5: 91.891\n",
      ">p=5 #6: 92.458\n",
      ">p=5 #7: 94.056\n",
      ">p=5 #8: 92.962\n",
      ">p=5 #9: 93.137\n",
      ">p=5 #10: 92.794\n",
      "[[90.75657106335385, 90.75657106383002, 89.83782056403291, 92.11472397539346, 91.7472237756651, 91.72325637133498, 91.7632020452185, 91.36374530685951, 92.4183110969082, 91.12407126355839], [93.20124630550136, 92.56211552288886, 92.99352880083087, 93.11336582248143, 93.16130063161783, 92.8177678357434, 93.32907246145243, 91.61140848493731, 93.21722457457857, 92.59407206199569], [93.96820324358872, 93.12934409251102, 94.00814891747224, 93.83238795286096, 91.89102820164577, 92.45825677126791, 94.05608372613246, 92.96157226172406, 93.13733322681153, 92.79380043188948]] [2, 3, 5]\n",
      "Param=2: 91.361% (+/-0.724)\n",
      "Param=3: 92.860% (+/-0.486)\n",
      "Param=5: 93.224% (+/-0.697)\n"
     ]
    },
    {
     "data": {
      "image/png": "[encoded data removed]",
      "text/plain": [
       "<Figure size 1080x360 with 1 Axes>"
      ]
     },
     "metadata": {},
     "output_type": "display_data"
    }
   ],
   "source": [
    "# Ajustando e validando um modelo\n",
    "def evaluate_model(X_train, y_train, X_test, y_test, n_kernel):\n",
    "    verbose, epochs, batch_size = 0, 15, 32\n",
    "    n_timesteps, n_features, n_outputs = X_train.shape[1], X_train.shape[2], y_train.shape[1]\n",
    "    model = Sequential()\n",
    "    model.add(Conv1D(filters=64, kernel_size=n_kernel, activation='relu', input_shape=(n_timesteps,n_features)))\n",
    "    model.add(Conv1D(filters=64, kernel_size=n_kernel, activation='relu'))\n",
    "    model.add(Dropout(0.5))\n",
    "    model.add(MaxPooling1D(pool_size=2))\n",
    "    model.add(Flatten())\n",
    "    model.add(Dense(100, activation='relu'))\n",
    "    model.add(Dense(n_outputs, activation='softmax'))\n",
    "    model.compile(loss='categorical_crossentropy', optimizer='adam', metrics=['accuracy'])\n",
    "    # Ajustando a rede\n",
    "    model.fit(X_train, y_train, epochs=epochs, batch_size=batch_size, verbose=verbose)\n",
    "    # Validando o modelo\n",
    "    _, accuracy = model.evaluate(X_test, y_test, batch_size=batch_size, verbose=0)\n",
    "    return accuracy\n",
    " \n",
    "# Resumindo as pontuações\n",
    "def summarize_results(scores, params):\n",
    "    print(scores, params)\n",
    "    # Resumindo média e desvio padrão\n",
    "    for i in range(len(scores)):\n",
    "        m, s = mean(scores[i]), std(scores[i])\n",
    "        print('Param=%d: %.3f%% (+/-%.3f)' % (params[i], m, s))\n",
    "    # Boxplot das pontuações\n",
    "    pyplot.boxplot(scores, labels=params)\n",
    "    pyplot.savefig('exp_cnn_kernel[2].png')\n",
    " \n",
    "# Rodando um experimento\n",
    "def run_experiment(params, repeats=10):\n",
    "    # Testando cada parâmetro\n",
    "    all_scores = list()\n",
    "    for p in params:\n",
    "        # Repetindo o experimento\n",
    "        scores = list()\n",
    "        for r in range(repeats):\n",
    "            score = evaluate_model(X_train, y_train, X_test, y_test, p)\n",
    "            score = score * 100.0\n",
    "            print('>p=%d #%d: %.3f' % (p, r+1, score))\n",
    "            scores.append(score)\n",
    "        all_scores.append(scores)\n",
    "    # Resumindo os resultados\n",
    "    summarize_results(all_scores, params)\n",
    " \n",
    "# Rodando o experimento\n",
    "n_params = [2, 3, 5]\n",
    "run_experiment(n_params)"
   ]
  },
  {
   "cell_type": "markdown",
   "metadata": {},
   "source": [
    "### Avaliando um modelo \"Multi-head\""
   ]
  },
  {
   "cell_type": "code",
   "execution_count": 13,
   "metadata": {},
   "outputs": [
    {
     "name": "stdout",
     "output_type": "stream",
     "text": [
      ">#1: 88.647\n",
      ">#2: 87.880\n",
      ">#3: 89.406\n",
      ">#4: 87.825\n",
      ">#5: 88.040\n",
      ">#6: 88.663\n",
      ">#7: 88.592\n",
      ">#8: 87.058\n",
      ">#9: 88.232\n",
      ">#10: 89.127\n",
      "[88.64743948278026, 87.88048254374051, 89.40640728609091, 87.82455860030358, 88.04026523975078, 88.66341775233366, 88.59151553886714, 87.05760166221623, 88.23200447439167, 89.12678756890628]\n",
      "Accuracy: 88.347% (+/-0.651)\n"
     ]
    }
   ],
   "source": [
    "from numpy import mean\n",
    "from numpy import std\n",
    "from pandas import read_csv\n",
    "from matplotlib import pyplot\n",
    "from keras.models import Sequential\n",
    "from keras.layers import Dense\n",
    "from keras.layers import Flatten\n",
    "from keras.layers import Dropout\n",
    "from keras.layers.convolutional import Conv1D\n",
    "from keras.layers.convolutional import MaxPooling1D\n",
    "from keras.utils import to_categorical\n",
    "from keras.layers import Input\n",
    "from keras.models import Model\n",
    "from keras.utils.vis_utils import plot_model\n",
    "from keras.layers.merge import concatenate\n",
    "\n",
    "# Ajustando e validando um modelo\n",
    "def evaluate_model(X_train, y_train, X_test, y_test):\n",
    "    verbose, epochs, batch_size = 0, 10, 32\n",
    "    n_timesteps, n_features, n_outputs = X_train.shape[1], X_train.shape[2], y_train.shape[1]\n",
    "     # head 1\n",
    "    inputs1 = Input(shape=(n_timesteps,n_features))\n",
    "    conv1 = Conv1D(filters=64, kernel_size=3, activation='relu')(inputs1)\n",
    "    drop1 = Dropout(0.5)(conv1)\n",
    "    pool1 = MaxPooling1D(pool_size=2)(drop1)\n",
    "    flat1 = Flatten()(pool1)\n",
    "    # head 2\n",
    "    inputs2 = Input(shape=(n_timesteps,n_features))\n",
    "    conv2 = Conv1D(filters=64, kernel_size=5, activation='relu')(inputs2)\n",
    "    drop2 = Dropout(0.5)(conv2)\n",
    "    pool2 = MaxPooling1D(pool_size=2)(drop2)\n",
    "    flat2 = Flatten()(pool2)\n",
    "    # head 3\n",
    "    inputs3 = Input(shape=(n_timesteps,n_features))\n",
    "    conv3 = Conv1D(filters=64, kernel_size=11, activation='relu')(inputs3)\n",
    "    drop3 = Dropout(0.5)(conv3)\n",
    "    pool3 = MaxPooling1D(pool_size=2)(drop3)\n",
    "    flat3 = Flatten()(pool3)\n",
    "    # Combinação\n",
    "    merged = concatenate([flat1, flat2, flat3])\n",
    "    # Interpretação\n",
    "    dense1 = Dense(100, activation='relu')(merged)\n",
    "    outputs = Dense(n_outputs, activation='softmax')(dense1)\n",
    "    model = Model(inputs=[inputs1, inputs2, inputs3], outputs=outputs)\n",
    "    # Salvando uma imagem do modelo\n",
    "    plot_model(model, show_shapes=True, to_file='multichannel.png')\n",
    "    model.compile(loss='categorical_crossentropy', optimizer='adam', metrics=['accuracy'])\n",
    "    # Ajustando a rede\n",
    "    model.fit([X_train,X_train,X_train], y_train, epochs=epochs, batch_size=batch_size, verbose=verbose)\n",
    "    # Validando o modelo\n",
    "    _, accuracy = model.evaluate([X_test,X_test,X_test], y_test, batch_size=batch_size, verbose=0)\n",
    "    return accuracy\n",
    " \n",
    "# Resumindo as pontuações\n",
    "def summarize_results(scores):\n",
    "    print(scores)\n",
    "    m, s = mean(scores), std(scores)\n",
    "    print('Accuracy: %.3f%% (+/-%.3f)' % (m, s))\n",
    " \n",
    "# Rodando um experimento\n",
    "def run_experiment(repeats=10):\n",
    "    # Repetindo o experimento\n",
    "    scores = list()\n",
    "    for r in range(repeats):\n",
    "        score = evaluate_model(X_train, y_train, X_test, y_test)\n",
    "        score = score * 100.0\n",
    "        print('>#%d: %.3f' % (r+1, score))\n",
    "        scores.append(score)\n",
    "    # Resumindo os resultados\n",
    "    summarize_results(scores)\n",
    " \n",
    "# Rodando o experimento\n",
    "run_experiment()"
   ]
  },
  {
   "cell_type": "markdown",
   "metadata": {},
   "source": [
    "### Avaliando o hiperparâmetro \"epochs\""
   ]
  },
  {
   "cell_type": "code",
   "execution_count": 14,
   "metadata": {},
   "outputs": [
    {
     "name": "stdout",
     "output_type": "stream",
     "text": [
      ">p=10 #1: 90.038\n",
      ">p=10 #2: 90.549\n",
      ">p=10 #3: 90.541\n",
      ">p=10 #4: 91.611\n",
      ">p=10 #5: 91.563\n",
      ">p=10 #6: 90.469\n",
      ">p=10 #7: 89.518\n",
      ">p=10 #8: 91.188\n",
      ">p=10 #9: 90.077\n",
      ">p=10 #10: 90.605\n",
      ">p=20 #1: 93.081\n",
      ">p=20 #2: 94.040\n",
      ">p=20 #3: 92.890\n",
      ">p=20 #4: 94.008\n",
      ">p=20 #5: 93.633\n",
      ">p=20 #6: 92.546\n",
      ">p=20 #7: 92.267\n",
      ">p=20 #8: 94.192\n",
      ">p=20 #9: 93.489\n",
      ">p=20 #10: 94.024\n",
      ">p=40 #1: 95.686\n",
      ">p=40 #2: 94.871\n",
      ">p=40 #3: 94.999\n",
      ">p=40 #4: 95.518\n",
      ">p=40 #5: 94.823\n",
      ">p=40 #6: 94.831\n",
      ">p=40 #7: 93.752\n",
      ">p=40 #8: 94.615\n",
      ">p=40 #9: 95.310\n",
      ">p=40 #10: 95.694\n",
      ">p=80 #1: 96.093\n",
      ">p=80 #2: 96.597\n",
      ">p=80 #3: 94.903\n",
      ">p=80 #4: 95.119\n",
      ">p=80 #5: 95.614\n",
      ">p=80 #6: 95.989\n",
      ">p=80 #7: 96.740\n",
      ">p=80 #8: 96.517\n",
      ">p=80 #9: 96.397\n",
      ">p=80 #10: 95.758\n",
      "[[90.03754893345051, 90.54885355963573, 90.54086442438283, 91.61140848446114, 91.5634736758009, 90.4689622113925, 89.51825517296477, 91.18798434177204, 90.07749460733403, 90.60477750259646], [93.08140928337461, 94.04010545705525, 92.88967004873372, 94.00814891747224, 93.63265958344336, 92.54613725333546, 92.26651753615084, 94.1918990178126, 93.4888551574627, 94.02412718702564], [95.6858672210562, 94.87097547335624, 94.99880162978349, 95.51809539026922, 94.82304066469601, 94.83102979947272, 93.75249660461772, 94.61532316097791, 95.31037788607493, 95.6938563558329], [96.0933130941919, 96.59662858512424, 94.90293201246305, 95.11863865143405, 95.61396500806588, 95.98945434209475, 96.7404330111049, 96.51673723735719, 96.39690021570664, 95.75776943357035]] [10, 20, 40, 80]\n",
      "Param=10: 90.616% (+/-0.639)\n",
      "Param=20: 93.417% (+/-0.650)\n",
      "Param=40: 95.010% (+/-0.556)\n",
      "Param=80: 95.973% (+/-0.593)\n"
     ]
    },
    {
     "data": {
      "image/png": "[encoded data removed]",
      "text/plain": [
       "<Figure size 1080x360 with 1 Axes>"
      ]
     },
     "metadata": {},
     "output_type": "display_data"
    }
   ],
   "source": [
    "# Ajustando e validando um modelo\n",
    "def evaluate_model(X_train, y_train, X_test, y_test, n_epochs):\n",
    "    verbose, epochs, batch_size = 0, n_epochs, 32\n",
    "    n_timesteps, n_features, n_outputs = X_train.shape[1], X_train.shape[2], y_train.shape[1]\n",
    "    model = Sequential()\n",
    "    model.add(Conv1D(filters=64, kernel_size=3, activation='relu', input_shape=(n_timesteps,n_features)))\n",
    "    model.add(Conv1D(filters=64, kernel_size=3, activation='relu'))\n",
    "    model.add(Dropout(0.5))\n",
    "    model.add(MaxPooling1D(pool_size=2))\n",
    "    model.add(Flatten())\n",
    "    model.add(Dense(100, activation='relu'))\n",
    "    model.add(Dense(n_outputs, activation='softmax'))\n",
    "    model.compile(loss='categorical_crossentropy', optimizer='adam', metrics=['accuracy'])\n",
    "    # Ajustando a rede\n",
    "    model.fit(X_train, y_train, epochs=epochs, batch_size=batch_size, verbose=verbose)\n",
    "    # Validando o modelo\n",
    "    _, accuracy = model.evaluate(X_test, y_test, batch_size=batch_size, verbose=0)\n",
    "    return accuracy\n",
    " \n",
    "# Resumindo as pontuações\n",
    "def summarize_results(scores, params):\n",
    "    print(scores, params)\n",
    "    # Resumindo média e desvio padrão\n",
    "    for i in range(len(scores)):\n",
    "        m, s = mean(scores[i]), std(scores[i])\n",
    "        print('Param=%d: %.3f%% (+/-%.3f)' % (params[i], m, s))\n",
    "    # Boxplot das pontuações\n",
    "    pyplot.boxplot(scores, labels=params)\n",
    "    pyplot.savefig('exp_cnn_epochs[2].png')\n",
    " \n",
    "# Rodando um experimento\n",
    "def run_experiment(params, repeats=10):\n",
    "    # Testando cada parâmetro\n",
    "    all_scores = list()\n",
    "    for p in params:\n",
    "        # Repetindo o experimento\n",
    "        scores = list()\n",
    "        for r in range(repeats):\n",
    "            score = evaluate_model(X_train, y_train, X_test, y_test, p)\n",
    "            score = score * 100.0\n",
    "            print('>p=%d #%d: %.3f' % (p, r+1, score))\n",
    "            scores.append(score)\n",
    "        all_scores.append(scores)\n",
    "    # Resumindo os resultados\n",
    "    summarize_results(all_scores, params)\n",
    " \n",
    "# Rodando o experimento\n",
    "n_params = [10, 20, 40, 80]\n",
    "run_experiment(n_params)"
   ]
  },
  {
   "cell_type": "markdown",
   "metadata": {},
   "source": [
    "### Avaliando o hiperparâmetro \"Batch size\""
   ]
  },
  {
   "cell_type": "code",
   "execution_count": 11,
   "metadata": {},
   "outputs": [
    {
     "name": "stdout",
     "output_type": "stream",
     "text": [
      ">p=32 #1: 92.203\n",
      ">p=32 #2: 93.265\n",
      ">p=32 #3: 89.694\n",
      ">p=32 #4: 92.498\n",
      ">p=32 #5: 91.388\n",
      ">p=32 #6: 93.321\n",
      ">p=32 #7: 92.195\n",
      ">p=32 #8: 92.195\n",
      ">p=32 #9: 92.626\n",
      ">p=32 #10: 93.249\n",
      ">p=64 #1: 89.390\n",
      ">p=64 #2: 91.220\n",
      ">p=64 #3: 91.068\n",
      ">p=64 #4: 90.205\n",
      ">p=64 #5: 90.908\n",
      ">p=64 #6: 90.717\n",
      ">p=64 #7: 90.860\n",
      ">p=64 #8: 91.084\n",
      ">p=64 #9: 90.773\n",
      ">p=64 #10: 89.247\n",
      ">p=128 #1: 86.363\n",
      ">p=128 #2: 88.799\n",
      ">p=128 #3: 87.585\n",
      ">p=128 #4: 87.521\n",
      ">p=128 #5: 86.466\n",
      ">p=128 #6: 87.489\n",
      ">p=128 #7: 89.766\n",
      ">p=128 #8: 88.488\n",
      ">p=128 #9: 88.943\n",
      ">p=128 #10: 87.537\n",
      "[[92.20260445793721, 93.2651593832388, 89.69401613852844, 92.49820244467524, 91.38771271118962, 93.32108332715191, 92.19461532363668, 92.1946153231605, 92.6260286015787, 93.24918111368538], [89.39042902272797, 91.21994088659312, 91.06814732583575, 90.20532076518985, 90.90836463030168, 90.71662539566078, 90.86042982164145, 91.08412558586537, 90.77254933433582, 89.24662459198541], [86.3625469142621, 88.79923302115672, 87.5848845422406, 87.52097146878887, 86.46640567826398, 87.48901492015825, 89.76591837485206, 88.48765676724622, 88.94303744713739, 87.53694973119943]] [32, 64, 128]\n",
      "Param=32: 92.263% (+/-1.033)\n",
      "Param=64: 90.547% (+/-0.668)\n",
      "Param=128: 87.896% (+/-1.034)\n"
     ]
    },
    {
     "data": {
      "image/png": "[encoded data removed]",
      "text/plain": [
       "<Figure size 1080x360 with 1 Axes>"
      ]
     },
     "metadata": {},
     "output_type": "display_data"
    }
   ],
   "source": [
    "# Ajustando e validando um modelo\n",
    "def evaluate_model(X_train, y_train, X_test, y_test, n_batch_size):\n",
    "    verbose, epochs, batch_size = 0, 15, n_batch_size\n",
    "    n_timesteps, n_features, n_outputs = X_train.shape[1], X_train.shape[2], y_train.shape[1]\n",
    "    model = Sequential()\n",
    "    model.add(Conv1D(filters=64, kernel_size=3, activation='relu', input_shape=(n_timesteps,n_features)))\n",
    "    model.add(Conv1D(filters=64, kernel_size=3, activation='relu'))\n",
    "    model.add(Dropout(0.5))\n",
    "    model.add(MaxPooling1D(pool_size=2))\n",
    "    model.add(Flatten())\n",
    "    model.add(Dense(100, activation='relu'))\n",
    "    model.add(Dense(n_outputs, activation='softmax'))\n",
    "    model.compile(loss='categorical_crossentropy', optimizer='adam', metrics=['accuracy'])\n",
    "    # Ajustando a rede\n",
    "    model.fit(X_train, y_train, epochs=epochs, batch_size=batch_size, verbose=verbose)\n",
    "    # Validando o modelo\n",
    "    _, accuracy = model.evaluate(X_test, y_test, batch_size=batch_size, verbose=0)\n",
    "    return accuracy\n",
    " \n",
    "# Resumindo as pontuações\n",
    "def summarize_results(scores, params):\n",
    "    print(scores, params)\n",
    "    # Resumindo média e desvio padrão\n",
    "    for i in range(len(scores)):\n",
    "        m, s = mean(scores[i]), std(scores[i])\n",
    "        print('Param=%d: %.3f%% (+/-%.3f)' % (params[i], m, s))\n",
    "    # Boxplot das pontuações\n",
    "    pyplot.boxplot(scores, labels=params)\n",
    "    pyplot.savefig('exp_cnn_batch_size[2].png')\n",
    " \n",
    "# Rodando um experimento\n",
    "def run_experiment(params, repeats=10):\n",
    "    # Testando cada parâmetro\n",
    "    all_scores = list()\n",
    "    for p in params:\n",
    "        # Repetindo experimento\n",
    "        scores = list()\n",
    "        for r in range(repeats):\n",
    "            score = evaluate_model(X_train, y_train, X_test, y_test, p)\n",
    "            score = score * 100.0\n",
    "            print('>p=%d #%d: %.3f' % (p, r+1, score))\n",
    "            scores.append(score)\n",
    "        all_scores.append(scores)\n",
    "    # Resumindo resultados\n",
    "    summarize_results(all_scores, params)\n",
    " \n",
    "# Rodando o experimento\n",
    "n_params = [32, 64, 128]\n",
    "run_experiment(n_params)"
   ]
  },
  {
   "cell_type": "markdown",
   "metadata": {},
   "source": [
    "### Modelo final\n",
    "Após a avaliação do comportamento do modelo com os diversos valores para os hiperparâmetros, foram escolhidos os valores para o modelo final."
   ]
  },
  {
   "cell_type": "code",
   "execution_count": 11,
   "metadata": {},
   "outputs": [
    {
     "name": "stdout",
     "output_type": "stream",
     "text": [
      ">#1: 95.246\n",
      ">#2: 96.109\n",
      ">#3: 93.657\n",
      ">#4: 92.690\n",
      ">#5: 94.727\n",
      ">#6: 96.485\n",
      ">#7: 93.393\n",
      ">#8: 95.358\n",
      ">#9: 95.310\n",
      ">#10: 94.687\n",
      "[95.24646480786132, 96.10929136374531, 93.65662698729727, 92.68994167979233, 94.72717104737556, 96.48478069872657, 93.39298554014225, 95.35831269473516, 95.31037788655112, 94.68722537349204]\n",
      "Accuracy: 94.766% (+/-1.143)\n"
     ]
    }
   ],
   "source": [
    "from numpy import mean\n",
    "from numpy import std\n",
    "from pandas import read_csv\n",
    "from matplotlib import pyplot\n",
    "from keras.models import Sequential\n",
    "from keras.layers import Dense\n",
    "from keras.layers import Flatten\n",
    "from keras.layers import Dropout\n",
    "from keras.layers.convolutional import Conv1D\n",
    "from keras.layers.convolutional import MaxPooling1D\n",
    "from keras.utils import to_categorical\n",
    "from keras.layers import Input\n",
    "from keras.models import Model\n",
    "from keras.utils.vis_utils import plot_model\n",
    "from keras.layers.merge import concatenate\n",
    "\n",
    "# Ajustando e validando um modelo\n",
    "def evaluate_model(X_train, y_train, X_test, y_test):\n",
    "    verbose, epochs, batch_size = 0, 80, 32\n",
    "    n_timesteps, n_features, n_outputs = X_train.shape[1], X_train.shape[2], y_train.shape[1]\n",
    "    model = Sequential()\n",
    "    model.add(Conv1D(2,2,activation='relu',input_shape=(37, 1)))\n",
    "    model.add(Conv1D(filters=64, kernel_size=3, activation='relu', input_shape=(n_timesteps,n_features)))\n",
    "    model.add(Conv1D(filters=64, kernel_size=3, activation='relu'))\n",
    "    model.add(Dropout(0.5))\n",
    "    model.add(MaxPooling1D(pool_size=2))\n",
    "    model.add(Flatten())\n",
    "    model.add(Dense(100, activation='relu'))\n",
    "    model.add(Dense(n_outputs, activation='softmax'))\n",
    "    model.compile(loss='categorical_crossentropy', optimizer='adam', metrics=['accuracy'])\n",
    "    # Ajustando a rede\n",
    "    model.fit(X_train, y_train, epochs=epochs, batch_size=batch_size, verbose=verbose)\n",
    "    # Validando o modelo\n",
    "    _, accuracy = model.evaluate(X_test, y_test, batch_size=batch_size, verbose=0)\n",
    "    return accuracy\n",
    "\n",
    "# Resumindo as pontuações\n",
    "def summarize_results(scores):\n",
    "    print(scores)\n",
    "    m, s = mean(scores), std(scores)\n",
    "    print('Accuracy: %.3f%% (+/-%.3f)' % (m, s))\n",
    "\n",
    "# Rodando um experimento\n",
    "def run_experiment(repeats=10):\n",
    "    # Repetindo o experimento\n",
    "    scores = list()\n",
    "    for r in range(repeats):\n",
    "        score = evaluate_model(X_train, y_train, X_test, y_test)\n",
    "        score = score * 100.0\n",
    "        print('>#%d: %.3f' % (r+1, score))\n",
    "        scores.append(score)\n",
    "    # Resumindo os resultados\n",
    "    summarize_results(scores)\n",
    "\n",
    "# Rodando o experimento\n",
    "run_experiment()"
   ]
  }
 ],
 "metadata": {
  "kernelspec": {
   "display_name": "conda_python3",
   "language": "python",
   "name": "conda_python3"
  },
  "language_info": {
   "codemirror_mode": {
    "name": "ipython",
    "version": 3
   },
   "file_extension": ".py",
   "mimetype": "text/x-python",
   "name": "python",
   "nbconvert_exporter": "python",
   "pygments_lexer": "ipython3",
   "version": "3.6.5"
  }
 },
 "nbformat": 4,
 "nbformat_minor": 2
}
