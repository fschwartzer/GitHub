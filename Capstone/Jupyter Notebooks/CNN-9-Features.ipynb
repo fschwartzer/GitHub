{
 "cells": [
  {
   "cell_type": "markdown",
   "metadata": {},
   "source": [
    "# Convolutional Neural Network (CNN) com 9 atributos\n",
    "\n",
    "## Utilização dos atributos Acelerômetro, Som, Orientação, Aceleração Linear, Giroscópio, Vetor de Rotação, Vetor de Rotação para Jogos, Giroscópio descalibrado e Velocidade."
   ]
  },
  {
   "cell_type": "markdown",
   "metadata": {},
   "source": [
    "### Instalação de recursos no notebook"
   ]
  },
  {
   "cell_type": "code",
   "execution_count": 2,
   "metadata": {},
   "outputs": [
    {
     "name": "stdout",
     "output_type": "stream",
     "text": [
      "Requirement already up-to-date: pip in /home/ec2-user/anaconda3/envs/python3/lib/python3.6/site-packages (18.1)\n",
      "Requirement already satisfied: keras in /home/ec2-user/anaconda3/envs/python3/lib/python3.6/site-packages (2.2.4)\n",
      "Requirement already satisfied: keras-preprocessing>=1.0.5 in /home/ec2-user/anaconda3/envs/python3/lib/python3.6/site-packages (from keras) (1.0.5)\n",
      "Requirement already satisfied: h5py in /home/ec2-user/anaconda3/envs/python3/lib/python3.6/site-packages (from keras) (2.8.0)\n",
      "Requirement already satisfied: numpy>=1.9.1 in /home/ec2-user/anaconda3/envs/python3/lib/python3.6/site-packages (from keras) (1.14.5)\n",
      "Requirement already satisfied: scipy>=0.14 in /home/ec2-user/anaconda3/envs/python3/lib/python3.6/site-packages (from keras) (1.1.0)\n",
      "Requirement already satisfied: keras-applications>=1.0.6 in /home/ec2-user/anaconda3/envs/python3/lib/python3.6/site-packages (from keras) (1.0.6)\n",
      "Requirement already satisfied: six>=1.9.0 in /home/ec2-user/anaconda3/envs/python3/lib/python3.6/site-packages (from keras) (1.11.0)\n",
      "Requirement already satisfied: pyyaml in /home/ec2-user/anaconda3/envs/python3/lib/python3.6/site-packages (from keras) (3.12)\n",
      "Requirement already satisfied: tensorflow in /home/ec2-user/anaconda3/envs/python3/lib/python3.6/site-packages (1.12.0)\n",
      "Requirement already satisfied: wheel>=0.26 in /home/ec2-user/anaconda3/envs/python3/lib/python3.6/site-packages (from tensorflow) (0.31.1)\n",
      "Requirement already satisfied: numpy>=1.13.3 in /home/ec2-user/anaconda3/envs/python3/lib/python3.6/site-packages (from tensorflow) (1.14.5)\n",
      "Requirement already satisfied: termcolor>=1.1.0 in /home/ec2-user/anaconda3/envs/python3/lib/python3.6/site-packages (from tensorflow) (1.1.0)\n",
      "Requirement already satisfied: gast>=0.2.0 in /home/ec2-user/anaconda3/envs/python3/lib/python3.6/site-packages (from tensorflow) (0.2.0)\n",
      "Requirement already satisfied: six>=1.10.0 in /home/ec2-user/anaconda3/envs/python3/lib/python3.6/site-packages (from tensorflow) (1.11.0)\n",
      "Requirement already satisfied: astor>=0.6.0 in /home/ec2-user/anaconda3/envs/python3/lib/python3.6/site-packages (from tensorflow) (0.7.1)\n",
      "Requirement already satisfied: grpcio>=1.8.6 in /home/ec2-user/anaconda3/envs/python3/lib/python3.6/site-packages (from tensorflow) (1.17.1)\n",
      "Requirement already satisfied: keras-applications>=1.0.6 in /home/ec2-user/anaconda3/envs/python3/lib/python3.6/site-packages (from tensorflow) (1.0.6)\n",
      "Requirement already satisfied: absl-py>=0.1.6 in /home/ec2-user/anaconda3/envs/python3/lib/python3.6/site-packages (from tensorflow) (0.6.1)\n",
      "Requirement already satisfied: keras-preprocessing>=1.0.5 in /home/ec2-user/anaconda3/envs/python3/lib/python3.6/site-packages (from tensorflow) (1.0.5)\n",
      "Requirement already satisfied: protobuf>=3.6.1 in /home/ec2-user/anaconda3/envs/python3/lib/python3.6/site-packages (from tensorflow) (3.6.1)\n",
      "Requirement already satisfied: tensorboard<1.13.0,>=1.12.0 in /home/ec2-user/anaconda3/envs/python3/lib/python3.6/site-packages (from tensorflow) (1.12.1)\n",
      "Requirement already satisfied: h5py in /home/ec2-user/anaconda3/envs/python3/lib/python3.6/site-packages (from keras-applications>=1.0.6->tensorflow) (2.8.0)\n",
      "Requirement already satisfied: setuptools in /home/ec2-user/anaconda3/envs/python3/lib/python3.6/site-packages (from protobuf>=3.6.1->tensorflow) (39.1.0)\n",
      "Requirement already satisfied: markdown>=2.6.8 in /home/ec2-user/anaconda3/envs/python3/lib/python3.6/site-packages (from tensorboard<1.13.0,>=1.12.0->tensorflow) (3.0.1)\n",
      "Requirement already satisfied: werkzeug>=0.11.10 in /home/ec2-user/anaconda3/envs/python3/lib/python3.6/site-packages (from tensorboard<1.13.0,>=1.12.0->tensorflow) (0.14.1)\n",
      "Requirement already satisfied: pydot in /home/ec2-user/anaconda3/envs/python3/lib/python3.6/site-packages (1.4.1)\n",
      "Requirement already satisfied: pyparsing>=2.1.4 in /home/ec2-user/anaconda3/envs/python3/lib/python3.6/site-packages (from pydot) (2.2.0)\n"
     ]
    }
   ],
   "source": [
    "import sys\n",
    "!{sys.executable} -m pip install --upgrade pip\n",
    "!{sys.executable} -m pip install keras\n",
    "!{sys.executable} -m pip install tensorflow\n",
    "!{sys.executable} -m pip install pydot"
   ]
  },
  {
   "cell_type": "markdown",
   "metadata": {},
   "source": [
    "### Importação de bibliotecas e carregamento do arquivo (Janela de 5 segundos)"
   ]
  },
  {
   "cell_type": "code",
   "execution_count": 3,
   "metadata": {},
   "outputs": [],
   "source": [
    "import pandas as pd \n",
    "import seaborn as sns\n",
    "import matplotlib.pyplot as plt\n",
    "import numpy as np\n",
    "\n",
    "data = pd.read_csv('dataset_5secondWindow[3].csv')"
   ]
  },
  {
   "cell_type": "markdown",
   "metadata": {},
   "source": [
    "### Divisão da base de dados em dados de treino e teste"
   ]
  },
  {
   "cell_type": "code",
   "execution_count": 4,
   "metadata": {},
   "outputs": [
    {
     "name": "stdout",
     "output_type": "stream",
     "text": [
      "['Car' 'Walking' 'Train' 'Bus' 'Still']\n",
      "----------------------------------------\n",
      "Walking    954\n",
      "Bus        950\n",
      "Car        941\n",
      "Still      936\n",
      "Train      933\n",
      "Name: target, dtype: int64\n"
     ]
    },
    {
     "name": "stderr",
     "output_type": "stream",
     "text": [
      "/home/ec2-user/anaconda3/envs/python3/lib/python3.6/site-packages/sklearn/cross_validation.py:41: DeprecationWarning: This module was deprecated in version 0.18 in favor of the model_selection module into which all the refactored classes and functions are moved. Also note that the interface of the new CV iterators are different from that of this module. This module will be removed in 0.20.\n",
      "  \"This module will be removed in 0.20.\", DeprecationWarning)\n"
     ]
    }
   ],
   "source": [
    "from sklearn.cross_validation import train_test_split\n",
    "df, test = train_test_split(data, test_size = 0.2, random_state = 0)\n",
    "\n",
    "df.T\n",
    "\n",
    "print(df.target.unique())\n",
    "print(\"----------------------------------------\")\n",
    "print(df.target.value_counts())"
   ]
  },
  {
   "cell_type": "markdown",
   "metadata": {},
   "source": [
    "### Verificação das quantidades de dados para cada um dos rótulos"
   ]
  },
  {
   "cell_type": "code",
   "execution_count": 4,
   "metadata": {},
   "outputs": [
    {
     "data": {
      "image/png": "[encoded data removed]",
      "text/plain": [
       "<Figure size 936x432 with 1 Axes>"
      ]
     },
     "metadata": {},
     "output_type": "display_data"
    }
   ],
   "source": [
    "sns.set(rc={'figure.figsize':(13,6)})\n",
    "fig = sns.countplot(x = \"target\" , data = df)\n",
    "plt.xlabel(\"Transportation Mode\")\n",
    "plt.ylabel(\"Count\")\n",
    "plt.title(\"Transportation Mode Using Count\")\n",
    "plt.grid(True)\n",
    "plt.show(fig)"
   ]
  },
  {
   "cell_type": "markdown",
   "metadata": {},
   "source": [
    "### Verificação das dimensões dos dados de treino e dos dados de teste e dos nomes dos atributos"
   ]
  },
  {
   "cell_type": "code",
   "execution_count": 5,
   "metadata": {},
   "outputs": [
    {
     "name": "stdout",
     "output_type": "stream",
     "text": [
      "(4714, 38) (1179, 38)\n"
     ]
    },
    {
     "data": {
      "text/plain": [
       "Index(['time', 'android.sensor.accelerometer#mean',\n",
       "       'android.sensor.accelerometer#min', 'android.sensor.accelerometer#max',\n",
       "       'android.sensor.accelerometer#std',\n",
       "       'android.sensor.game_rotation_vector#mean',\n",
       "       'android.sensor.game_rotation_vector#min',\n",
       "       'android.sensor.game_rotation_vector#max',\n",
       "       'android.sensor.game_rotation_vector#std',\n",
       "       'android.sensor.gyroscope#mean', 'android.sensor.gyroscope#min',\n",
       "       'android.sensor.gyroscope#max', 'android.sensor.gyroscope#std',\n",
       "       'android.sensor.gyroscope_uncalibrated#mean',\n",
       "       'android.sensor.gyroscope_uncalibrated#min',\n",
       "       'android.sensor.gyroscope_uncalibrated#max',\n",
       "       'android.sensor.gyroscope_uncalibrated#std',\n",
       "       'android.sensor.linear_acceleration#mean',\n",
       "       'android.sensor.linear_acceleration#min',\n",
       "       'android.sensor.linear_acceleration#max',\n",
       "       'android.sensor.linear_acceleration#std',\n",
       "       'android.sensor.orientation#mean', 'android.sensor.orientation#min',\n",
       "       'android.sensor.orientation#max', 'android.sensor.orientation#std',\n",
       "       'android.sensor.rotation_vector#mean',\n",
       "       'android.sensor.rotation_vector#min',\n",
       "       'android.sensor.rotation_vector#max',\n",
       "       'android.sensor.rotation_vector#std', 'sound#mean', 'sound#min',\n",
       "       'sound#max', 'sound#std', 'speed#mean', 'speed#min', 'speed#max',\n",
       "       'speed#std', 'target'],\n",
       "      dtype='object')"
      ]
     },
     "execution_count": 5,
     "metadata": {},
     "output_type": "execute_result"
    }
   ],
   "source": [
    "print(df.shape , test.shape)\n",
    "\n",
    "df.columns"
   ]
  },
  {
   "cell_type": "markdown",
   "metadata": {},
   "source": [
    "### Verificação da dimensionalidade de alguns atributos"
   ]
  },
  {
   "cell_type": "code",
   "execution_count": 6,
   "metadata": {},
   "outputs": [
    {
     "data": {
      "image/png": "[encoded data removed]",
      "text/plain": [
       "<Figure size 1080x360 with 1 Axes>"
      ]
     },
     "metadata": {},
     "output_type": "display_data"
    },
    {
     "data": {
      "image/png": "[encoded data removed]",
      "text/plain": [
       "<Figure size 1080x360 with 1 Axes>"
      ]
     },
     "metadata": {},
     "output_type": "display_data"
    },
    {
     "data": {
      "image/png": "[encoded data removed]",
      "text/plain": [
       "<Figure size 1080x360 with 1 Axes>"
      ]
     },
     "metadata": {},
     "output_type": "display_data"
    }
   ],
   "source": [
    "sns.set(rc={'figure.figsize':(15,5)})\n",
    "fig1 = sns.stripplot(x='target', y= 'android.sensor.accelerometer#mean', data= df, jitter=True)\n",
    "plt.title(\"Feature Distribution\")\n",
    "plt.grid(True)\n",
    "plt.show(fig)\n",
    "\n",
    "sns.set(rc={'figure.figsize':(15,5)})\n",
    "fig1 = sns.stripplot(x='target', y= 'android.sensor.gyroscope#mean', data= df, jitter=True)\n",
    "plt.title(\"Feature Distribution\")\n",
    "plt.grid(True)\n",
    "plt.show(fig)\n",
    "\n",
    "sns.set(rc={'figure.figsize':(15,5)})\n",
    "fig1 = sns.stripplot(x='target', y= 'sound#mean', data= df, jitter=True)\n",
    "plt.title(\"Feature Distribution\")\n",
    "plt.grid(True)\n",
    "plt.show(fig)"
   ]
  },
  {
   "cell_type": "markdown",
   "metadata": {},
   "source": [
    "### Redimensionamento dos atributos"
   ]
  },
  {
   "cell_type": "code",
   "execution_count": 6,
   "metadata": {},
   "outputs": [
    {
     "name": "stdout",
     "output_type": "stream",
     "text": [
      "[[0.03387334 0.21784851 0.61804815 ... 0.49801019 0.49801019 0.0253911 ]\n",
      " [0.06185567 0.28956531 0.54192208 ... 0.         0.         0.        ]\n",
      " [0.09720177 0.45272192 0.5155578  ... 0.01947038 0.01947038 0.        ]\n",
      " ...\n",
      " [0.07658321 0.23031324 0.68421945 ... 0.         0.         0.        ]\n",
      " [0.01030928 0.25770798 0.80118158 ... 0.         0.         0.        ]\n",
      " [0.55375552 0.25604939 0.77225155 ... 0.         0.         0.        ]]\n",
      "[[0.1464497  0.33053002 0.94231284 ... 0.         0.         0.        ]\n",
      " [0.51923077 0.37455302 0.97330651 ... 0.         0.         0.        ]\n",
      " [0.00147929 0.28878365 0.62005137 ... 0.         0.         0.        ]\n",
      " ...\n",
      " [0.02810651 0.81023559 0.22308111 ... 0.         0.         0.        ]\n",
      " [0.33284024 0.31277692 0.79563477 ... 0.06833892 0.06833892 0.09518294]\n",
      " [0.74556213 0.37676254 0.9488591  ... 0.         0.         0.        ]]\n"
     ]
    }
   ],
   "source": [
    "from sklearn.preprocessing import MinMaxScaler\n",
    "scaler = MinMaxScaler()\n",
    "scaler.fit(df.iloc[:,0:37])\n",
    "mat_train = scaler.transform(df.iloc[:,0:37])\n",
    "print(mat_train)\n",
    "\n",
    "scaler = MinMaxScaler()\n",
    "scaler.fit(test.iloc[:,0:37])\n",
    "mat_test = scaler.transform(test.iloc[:,0:37])\n",
    "print(mat_test)"
   ]
  },
  {
   "cell_type": "markdown",
   "metadata": {},
   "source": [
    "### Codificação das variáveis dependentes"
   ]
  },
  {
   "cell_type": "code",
   "execution_count": 7,
   "metadata": {},
   "outputs": [
    {
     "name": "stderr",
     "output_type": "stream",
     "text": [
      "/home/ec2-user/anaconda3/envs/python3/lib/python3.6/site-packages/ipykernel/__main__.py:8: SettingWithCopyWarning: \n",
      "A value is trying to be set on a copy of a slice from a DataFrame.\n",
      "Try using .loc[row_indexer,col_indexer] = value instead\n",
      "\n",
      "See the caveats in the documentation: http://pandas.pydata.org/pandas-docs/stable/indexing.html#indexing-view-versus-copy\n",
      "/home/ec2-user/anaconda3/envs/python3/lib/python3.6/site-packages/ipykernel/__main__.py:17: SettingWithCopyWarning: \n",
      "A value is trying to be set on a copy of a slice from a DataFrame.\n",
      "Try using .loc[row_indexer,col_indexer] = value instead\n",
      "\n",
      "See the caveats in the documentation: http://pandas.pydata.org/pandas-docs/stable/indexing.html#indexing-view-versus-copy\n"
     ]
    }
   ],
   "source": [
    "temp = []\n",
    "for i in df.target:\n",
    "    if i == \"Car\": temp.append(0)\n",
    "    if i == \"Walking\": temp.append(1)\n",
    "    if i == \"Train\": temp.append(2)\n",
    "    if i == \"Bus\": temp.append(3)\n",
    "    if i == \"Still\": temp.append(4)\n",
    "df[\"n_Target\"] = temp\n",
    "\n",
    "temp = []\n",
    "for i in test.target:\n",
    "    if i == \"Car\": temp.append(0)\n",
    "    if i == \"Walking\": temp.append(1)\n",
    "    if i == \"Train\": temp.append(2)\n",
    "    if i == \"Bus\": temp.append(3)\n",
    "    if i == \"Still\": temp.append(4)\n",
    "test[\"n_Target\"] = temp"
   ]
  },
  {
   "cell_type": "markdown",
   "metadata": {},
   "source": [
    "### Isolando as variáveis dependentes"
   ]
  },
  {
   "cell_type": "code",
   "execution_count": 8,
   "metadata": {},
   "outputs": [],
   "source": [
    "y_train = df[\"n_Target\"]\n",
    "\n",
    "y_test = test[\"n_Target\"]"
   ]
  },
  {
   "cell_type": "markdown",
   "metadata": {},
   "source": [
    "### Preparação dos dados para a rede neural"
   ]
  },
  {
   "cell_type": "code",
   "execution_count": 9,
   "metadata": {},
   "outputs": [
    {
     "name": "stdout",
     "output_type": "stream",
     "text": [
      "(4714, 37, 1) (4714, 5)\n",
      "(1179, 37, 1) (1179, 5)\n"
     ]
    }
   ],
   "source": [
    "import keras\n",
    "from keras.utils import to_categorical\n",
    "\n",
    "y_train = to_categorical(df.n_Target , num_classes=5)\n",
    "y_test = to_categorical(test.n_Target , num_classes=5)\n",
    "\n",
    "X_train = mat_train\n",
    "X_test = mat_test\n",
    "\n",
    "X_test = np.expand_dims(X_test, axis=2)\n",
    "X_train = np.expand_dims(X_train, axis=2)\n",
    "\n",
    "\n",
    "print(X_train.shape , y_train.shape)\n",
    "print(X_test.shape , y_test.shape)"
   ]
  },
  {
   "cell_type": "markdown",
   "metadata": {},
   "source": [
    "### Ajuste e validação do modelo\n",
    "Nesse primeiro momento, os hiperparâmetros foram definidos de forma arbitrária."
   ]
  },
  {
   "cell_type": "code",
   "execution_count": 15,
   "metadata": {},
   "outputs": [
    {
     "name": "stdout",
     "output_type": "stream",
     "text": [
      ">#1: 82.782\n",
      ">#2: 79.050\n",
      ">#3: 82.528\n",
      ">#4: 77.354\n",
      ">#5: 75.912\n",
      ">#6: 77.693\n",
      ">#7: 83.376\n",
      ">#8: 80.407\n",
      ">#9: 81.086\n",
      ">#10: 79.304\n",
      "[82.78201871043652, 79.05004237343236, 82.52756578422786, 77.35368963315186, 75.9117897179695, 77.6929601508748, 83.37574220492337, 80.40712474765567, 81.08566583365682, 79.304495299641]\n",
      "Accuracy: 79.949% (+/-2.393)\n"
     ]
    }
   ],
   "source": [
    "from numpy import mean\n",
    "from numpy import std\n",
    "from pandas import read_csv\n",
    "from matplotlib import pyplot\n",
    "from keras.models import Sequential\n",
    "from keras.layers import Dense\n",
    "from keras.layers import Flatten\n",
    "from keras.layers import Dropout\n",
    "from keras.layers.convolutional import Conv1D\n",
    "from keras.layers.convolutional import MaxPooling1D\n",
    "from keras.utils import to_categorical\n",
    "\n",
    "# Ajustando e validando um modelo\n",
    "def evaluate_model(X_train, y_train, X_test, y_test):\n",
    "    verbose, epochs, batch_size = 0, 10, 32\n",
    "    n_timesteps, n_features, n_outputs = X_train.shape[1], X_train.shape[2], y_train.shape[1]\n",
    "    model = Sequential()\n",
    "    model.add(Conv1D(2,2,activation='relu',input_shape=(37, 1)))\n",
    "    model.add(Conv1D(filters=100, kernel_size=3, activation='relu', input_shape=(n_timesteps,n_features)))\n",
    "    model.add(Conv1D(filters=100, kernel_size=3, activation='relu'))\n",
    "    model.add(Dropout(0.5))\n",
    "    model.add(MaxPooling1D(pool_size=2))\n",
    "    model.add(Flatten())\n",
    "    model.add(Dense(100, activation='relu'))\n",
    "    model.add(Dense(n_outputs, activation='softmax'))\n",
    "    model.compile(loss='categorical_crossentropy', optimizer='adam', metrics=['accuracy'])\n",
    "    # Ajustando a rede\n",
    "    model.fit(X_train, y_train, epochs=epochs, batch_size=batch_size, verbose=verbose)\n",
    "    # Validando o modelo\n",
    "    _, accuracy = model.evaluate(X_test, y_test, batch_size=batch_size, verbose=0)\n",
    "    return accuracy\n",
    "\n",
    "# Resumindo as pontuações\n",
    "def summarize_results(scores):\n",
    "    print(scores)\n",
    "    m, s = mean(scores), std(scores)\n",
    "    print('Accuracy: %.3f%% (+/-%.3f)' % (m, s))\n",
    "\n",
    "# Rodando um experimento\n",
    "def run_experiment(repeats=10):\n",
    "    # Repetindo um experimento\n",
    "    scores = list()\n",
    "    for r in range(repeats):\n",
    "        score = evaluate_model(X_train, y_train, X_test, y_test)\n",
    "        score = score * 100.0\n",
    "        print('>#%d: %.3f' % (r+1, score))\n",
    "        scores.append(score)\n",
    "    # Resumindo os resultados\n",
    "    summarize_results(scores)\n",
    "\n",
    "# Rodando o experimento\n",
    "run_experiment()"
   ]
  },
  {
   "cell_type": "markdown",
   "metadata": {},
   "source": [
    "### Testando o hiperparâmetro \"filters'"
   ]
  },
  {
   "cell_type": "code",
   "execution_count": 16,
   "metadata": {},
   "outputs": [
    {
     "name": "stdout",
     "output_type": "stream",
     "text": [
      ">p=8 #1: 72.349\n",
      ">p=8 #2: 69.805\n",
      ">p=8 #3: 72.265\n",
      ">p=8 #4: 68.787\n",
      ">p=8 #5: 74.724\n",
      ">p=8 #6: 74.724\n",
      ">p=8 #7: 72.774\n",
      ">p=8 #8: 73.537\n",
      ">p=8 #9: 72.858\n",
      ">p=8 #10: 72.010\n",
      ">p=16 #1: 74.046\n",
      ">p=16 #2: 77.693\n",
      ">p=16 #3: 74.809\n",
      ">p=16 #4: 76.845\n",
      ">p=16 #5: 72.689\n",
      ">p=16 #6: 76.421\n",
      ">p=16 #7: 78.965\n",
      ">p=16 #8: 76.081\n",
      ">p=16 #9: 76.506\n",
      ">p=16 #10: 77.523\n",
      ">p=32 #1: 80.916\n",
      ">p=32 #2: 77.778\n",
      ">p=32 #3: 78.117\n",
      ">p=32 #4: 78.456\n",
      ">p=32 #5: 76.421\n",
      ">p=32 #6: 78.117\n",
      ">p=32 #7: 80.577\n",
      ">p=32 #8: 77.608\n",
      ">p=32 #9: 75.912\n",
      ">p=32 #10: 76.675\n",
      ">p=64 #1: 77.439\n",
      ">p=64 #2: 78.626\n",
      ">p=64 #3: 80.746\n",
      ">p=64 #4: 75.657\n",
      ">p=64 #5: 80.237\n",
      ">p=64 #6: 81.425\n",
      ">p=64 #7: 83.376\n",
      ">p=64 #8: 80.153\n",
      ">p=64 #9: 80.916\n",
      ">p=64 #10: 81.086\n",
      ">p=128 #1: 79.389\n",
      ">p=128 #2: 81.255\n",
      ">p=128 #3: 79.983\n",
      ">p=128 #4: 79.220\n",
      ">p=128 #5: 82.103\n",
      ">p=128 #6: 81.255\n",
      ">p=128 #7: 79.983\n",
      ">p=128 #8: 81.679\n",
      ">p=128 #9: 83.206\n",
      ">p=128 #10: 80.662\n",
      ">p=256 #1: 78.202\n",
      ">p=256 #2: 80.916\n",
      ">p=256 #3: 81.340\n",
      ">p=256 #4: 80.746\n",
      ">p=256 #5: 81.340\n",
      ">p=256 #6: 81.510\n",
      ">p=256 #7: 82.952\n",
      ">p=256 #8: 81.255\n",
      ">p=256 #9: 83.036\n",
      ">p=256 #10: 81.595\n",
      "[[72.3494487156597, 69.80491940301793, 72.2646310230349, 68.78710774873859, 74.7243427289958, 74.7243427289958, 72.77353692600745, 73.53689565407815, 72.85835451752175, 72.01017818277018], [74.04580159243939, 77.69296016604137, 74.80916033567667, 76.84478378073455, 72.6887192839379, 76.42069551983155, 78.96522483247331, 76.08142500210859, 76.50551321245635, 77.52332486673569], [80.91603060007297, 77.77777779294436, 78.11704841177782, 78.45631887894551, 76.42069548444287, 78.11704841177782, 80.5767599964061, 77.6081425593605, 75.91178968258082, 76.67514841065152], [77.43850718927747, 78.62595421363986, 80.74639526537862, 75.65733670581692, 80.23748946351658, 81.42493635137977, 83.37574211897943, 80.15267172033651, 80.91603049896247, 81.08566583365682], [79.38931295687713, 81.25530111779592, 79.98303653730791, 79.21967765757145, 82.10347753849143, 81.25530106724067, 79.98303653730791, 81.67938932814367, 83.20610683484033, 80.66157767386433], [78.20186605384735, 80.91603060007297, 81.34011881042072, 80.74639519460126, 81.34011881042072, 81.5097540086159, 82.95165400974219, 81.25530111779592, 83.03647163664516, 81.59457163551888]] [8, 16, 32, 64, 128, 256]\n",
      "Param=8: 72.383% (+/-1.800)\n",
      "Param=16: 76.158% (+/-1.763)\n",
      "Param=32: 78.058% (+/-1.554)\n",
      "Param=64: 79.966% (+/-2.083)\n",
      "Param=128: 80.874% (+/-1.203)\n",
      "Param=256: 81.289% (+/-1.262)\n"
     ]
    },
    {
     "data": {
      "image/png": "[encoded data removed]",
      "text/plain": [
       "<Figure size 1080x360 with 1 Axes>"
      ]
     },
     "metadata": {},
     "output_type": "display_data"
    }
   ],
   "source": [
    "# Ajustando e validando um modelo\n",
    "def evaluate_model(X_train, y_train, X_test, y_test, n_filters):\n",
    "    verbose, epochs, batch_size = 0, 10, 32\n",
    "    n_timesteps, n_features, n_outputs = X_train.shape[1], X_train.shape[2], y_train.shape[1]\n",
    "    model = Sequential()\n",
    "    model.add(Conv1D(filters=n_filters, kernel_size=3, activation='relu', input_shape=(n_timesteps,n_features)))\n",
    "    model.add(Conv1D(filters=n_filters, kernel_size=3, activation='relu'))\n",
    "    model.add(Dropout(0.5))\n",
    "    model.add(MaxPooling1D(pool_size=2))\n",
    "    model.add(Flatten())\n",
    "    model.add(Dense(100, activation='relu'))\n",
    "    model.add(Dense(n_outputs, activation='softmax'))\n",
    "    model.compile(loss='categorical_crossentropy', optimizer='adam', metrics=['accuracy'])\n",
    "    # Ajustando a rede\n",
    "    model.fit(X_train, y_train, epochs=epochs, batch_size=batch_size, verbose=verbose)\n",
    "    # Validando o modelo\n",
    "    _, accuracy = model.evaluate(X_test, y_test, batch_size=batch_size, verbose=0)\n",
    "    return accuracy\n",
    " \n",
    "# Resumindo as pontuações\n",
    "def summarize_results(scores, params):\n",
    "    print(scores, params)\n",
    "    # Resumindo média e desvio padrão\n",
    "    for i in range(len(scores)):\n",
    "        m, s = mean(scores[i]), std(scores[i])\n",
    "        print('Param=%d: %.3f%% (+/-%.3f)' % (params[i], m, s))\n",
    "    # Boxplot das pontuações\n",
    "    pyplot.boxplot(scores, labels=params)\n",
    "    pyplot.savefig('exp_cnn_filters.png')\n",
    " \n",
    "# Rodando um experimento\n",
    "def run_experiment(params, repeats=10):\n",
    "    # Testando cada parâmetro\n",
    "    all_scores = list()\n",
    "    for p in params:\n",
    "        # Repetindo o experimento\n",
    "        scores = list()\n",
    "        for r in range(repeats):\n",
    "            score = evaluate_model(X_train, y_train, X_test, y_test, p)\n",
    "            score = score * 100.0\n",
    "            print('>p=%d #%d: %.3f' % (p, r+1, score))\n",
    "            scores.append(score)\n",
    "        all_scores.append(scores)\n",
    "    # Resumindo os resultados\n",
    "    summarize_results(all_scores, params)\n",
    " \n",
    "# Rodando os experimentos\n",
    "n_params = [8, 16, 32, 64, 128, 256]\n",
    "run_experiment(n_params)"
   ]
  },
  {
   "cell_type": "markdown",
   "metadata": {},
   "source": [
    "### Avaliando o hiperparâmetro \"kernel\""
   ]
  },
  {
   "cell_type": "code",
   "execution_count": 17,
   "metadata": {},
   "outputs": [
    {
     "name": "stdout",
     "output_type": "stream",
     "text": [
      ">p=2 #1: 80.831\n",
      ">p=2 #2: 84.054\n",
      ">p=2 #3: 78.541\n",
      ">p=2 #4: 83.121\n",
      ">p=2 #5: 82.612\n",
      ">p=2 #6: 83.376\n",
      ">p=2 #7: 83.376\n",
      ">p=2 #8: 83.461\n",
      ">p=2 #9: 81.595\n",
      ">p=2 #10: 83.461\n",
      ">p=3 #1: 81.764\n",
      ">p=3 #2: 78.711\n",
      ">p=3 #3: 82.273\n",
      ">p=3 #4: 84.987\n",
      ">p=3 #5: 84.733\n",
      ">p=3 #6: 80.577\n",
      ">p=3 #7: 82.697\n",
      ">p=3 #8: 80.916\n",
      ">p=3 #9: 82.612\n",
      ">p=3 #10: 82.188\n",
      ">p=5 #1: 85.666\n",
      ">p=5 #2: 83.715\n",
      ">p=5 #3: 82.103\n",
      ">p=5 #4: 81.849\n",
      ">p=5 #5: 79.389\n",
      ">p=5 #6: 82.867\n",
      ">p=5 #7: 84.394\n",
      ">p=5 #8: 85.496\n",
      ">p=5 #9: 83.885\n",
      ">p=5 #10: 84.818\n",
      "[[80.83121290744816, 84.0542833060911, 78.54113657157032, 83.12128927871471, 82.61238334035347, 83.37574211897943, 83.37574216953469, 83.46055986215949, 81.59457168607412, 83.46055981160424], [81.76420702076848, 78.71077190626467, 82.27311287318578, 84.9872774194114, 84.73282439209224, 80.57676003179478, 82.69720098242303, 80.91603054951773, 82.61238344146399, 82.18829513000573], [85.66581845485729, 83.71501278836814, 82.103477553658, 81.84902456172752, 79.38931304282106, 82.86683635250606, 84.39355382381405, 85.49618317071818, 83.88464807250725, 84.81764208471704]] [2, 3, 5]\n",
      "Param=2: 82.443% (+/-1.595)\n",
      "Param=3: 82.146% (+/-1.767)\n",
      "Param=5: 83.418% (+/-1.825)\n"
     ]
    },
    {
     "data": {
      "image/png": "[encoded data removed]",
      "text/plain": [
       "<Figure size 1080x360 with 1 Axes>"
      ]
     },
     "metadata": {},
     "output_type": "display_data"
    }
   ],
   "source": [
    "# Ajustando e validando um modelo\n",
    "def evaluate_model(X_train, y_train, X_test, y_test, n_kernel):\n",
    "    verbose, epochs, batch_size = 0, 15, 32\n",
    "    n_timesteps, n_features, n_outputs = X_train.shape[1], X_train.shape[2], y_train.shape[1]\n",
    "    model = Sequential()\n",
    "    model.add(Conv1D(filters=64, kernel_size=n_kernel, activation='relu', input_shape=(n_timesteps,n_features)))\n",
    "    model.add(Conv1D(filters=64, kernel_size=n_kernel, activation='relu'))\n",
    "    model.add(Dropout(0.5))\n",
    "    model.add(MaxPooling1D(pool_size=2))\n",
    "    model.add(Flatten())\n",
    "    model.add(Dense(100, activation='relu'))\n",
    "    model.add(Dense(n_outputs, activation='softmax'))\n",
    "    model.compile(loss='categorical_crossentropy', optimizer='adam', metrics=['accuracy'])\n",
    "    # Ajustando a rede\n",
    "    model.fit(X_train, y_train, epochs=epochs, batch_size=batch_size, verbose=verbose)\n",
    "    # Validando o modelo\n",
    "    _, accuracy = model.evaluate(X_test, y_test, batch_size=batch_size, verbose=0)\n",
    "    return accuracy\n",
    " \n",
    "# Resumindo as pontuações\n",
    "def summarize_results(scores, params):\n",
    "    print(scores, params)\n",
    "    # Resumindo média e desvio padrão\n",
    "    for i in range(len(scores)):\n",
    "        m, s = mean(scores[i]), std(scores[i])\n",
    "        print('Param=%d: %.3f%% (+/-%.3f)' % (params[i], m, s))\n",
    "    # Boxplot das pontuações\n",
    "    pyplot.boxplot(scores, labels=params)\n",
    "    pyplot.savefig('exp_cnn_kernel[2].png')\n",
    " \n",
    "# Rodando um experimento\n",
    "def run_experiment(params, repeats=10):\n",
    "    # Testando cada parâmetro\n",
    "    all_scores = list()\n",
    "    for p in params:\n",
    "        # Repetindo o experimento\n",
    "        scores = list()\n",
    "        for r in range(repeats):\n",
    "            score = evaluate_model(X_train, y_train, X_test, y_test, p)\n",
    "            score = score * 100.0\n",
    "            print('>p=%d #%d: %.3f' % (p, r+1, score))\n",
    "            scores.append(score)\n",
    "        all_scores.append(scores)\n",
    "    # Resumindo os resultados\n",
    "    summarize_results(all_scores, params)\n",
    " \n",
    "# Rodando o experimento\n",
    "n_params = [2, 3, 5]\n",
    "run_experiment(n_params)"
   ]
  },
  {
   "cell_type": "markdown",
   "metadata": {},
   "source": [
    "### Avaliando um modelo \"Multi-head\""
   ]
  },
  {
   "cell_type": "code",
   "execution_count": 10,
   "metadata": {},
   "outputs": [
    {
     "name": "stdout",
     "output_type": "stream",
     "text": [
      ">#1: 81.170\n",
      ">#2: 80.577\n",
      ">#3: 80.322\n",
      ">#4: 81.679\n",
      ">#5: 80.407\n",
      ">#6: 78.880\n",
      ">#7: 77.693\n",
      ">#8: 78.287\n",
      ">#9: 77.184\n",
      ">#10: 81.255\n",
      "[81.17048352628163, 80.57676003179478, 80.32230710558612, 81.67938932814367, 80.40712466171173, 78.88040719040377, 77.69296008009745, 78.28668366052824, 77.18405426306883, 81.25530116835118]\n",
      "Accuracy: 79.746% (+/-1.522)\n"
     ]
    }
   ],
   "source": [
    "from numpy import mean\n",
    "from numpy import std\n",
    "from pandas import read_csv\n",
    "from matplotlib import pyplot\n",
    "from keras.models import Sequential\n",
    "from keras.layers import Dense\n",
    "from keras.layers import Flatten\n",
    "from keras.layers import Dropout\n",
    "from keras.layers.convolutional import Conv1D\n",
    "from keras.layers.convolutional import MaxPooling1D\n",
    "from keras.utils import to_categorical\n",
    "from keras.layers import Input\n",
    "from keras.models import Model\n",
    "from keras.utils.vis_utils import plot_model\n",
    "from keras.layers.merge import concatenate\n",
    "\n",
    "# Ajustando e validando um modelo\n",
    "def evaluate_model(X_train, y_train, X_test, y_test):\n",
    "    verbose, epochs, batch_size = 0, 10, 32\n",
    "    n_timesteps, n_features, n_outputs = X_train.shape[1], X_train.shape[2], y_train.shape[1]\n",
    "     # head 1\n",
    "    inputs1 = Input(shape=(n_timesteps,n_features))\n",
    "    conv1 = Conv1D(filters=64, kernel_size=3, activation='relu')(inputs1)\n",
    "    drop1 = Dropout(0.5)(conv1)\n",
    "    pool1 = MaxPooling1D(pool_size=2)(drop1)\n",
    "    flat1 = Flatten()(pool1)\n",
    "    # head 2\n",
    "    inputs2 = Input(shape=(n_timesteps,n_features))\n",
    "    conv2 = Conv1D(filters=64, kernel_size=5, activation='relu')(inputs2)\n",
    "    drop2 = Dropout(0.5)(conv2)\n",
    "    pool2 = MaxPooling1D(pool_size=2)(drop2)\n",
    "    flat2 = Flatten()(pool2)\n",
    "    # head 3\n",
    "    inputs3 = Input(shape=(n_timesteps,n_features))\n",
    "    conv3 = Conv1D(filters=64, kernel_size=11, activation='relu')(inputs3)\n",
    "    drop3 = Dropout(0.5)(conv3)\n",
    "    pool3 = MaxPooling1D(pool_size=2)(drop3)\n",
    "    flat3 = Flatten()(pool3)\n",
    "    # Combinação\n",
    "    merged = concatenate([flat1, flat2, flat3])\n",
    "    # Interpretação\n",
    "    dense1 = Dense(100, activation='relu')(merged)\n",
    "    outputs = Dense(n_outputs, activation='softmax')(dense1)\n",
    "    model = Model(inputs=[inputs1, inputs2, inputs3], outputs=outputs)\n",
    "    # Salvando uma imagem do modelo\n",
    "    plot_model(model, show_shapes=True, to_file='multichannel.png')\n",
    "    model.compile(loss='categorical_crossentropy', optimizer='adam', metrics=['accuracy'])\n",
    "    # Ajustando a rede\n",
    "    model.fit([X_train,X_train,X_train], y_train, epochs=epochs, batch_size=batch_size, verbose=verbose)\n",
    "    # Validando o modelo\n",
    "    _, accuracy = model.evaluate([X_test,X_test,X_test], y_test, batch_size=batch_size, verbose=0)\n",
    "    return accuracy\n",
    " \n",
    "# Resumindo as pontuações\n",
    "def summarize_results(scores):\n",
    "    print(scores)\n",
    "    m, s = mean(scores), std(scores)\n",
    "    print('Accuracy: %.3f%% (+/-%.3f)' % (m, s))\n",
    " \n",
    "# Rodando um experimento\n",
    "def run_experiment(repeats=10):\n",
    "    # Repetindo o experimento\n",
    "    scores = list()\n",
    "    for r in range(repeats):\n",
    "        score = evaluate_model(X_train, y_train, X_test, y_test)\n",
    "        score = score * 100.0\n",
    "        print('>#%d: %.3f' % (r+1, score))\n",
    "        scores.append(score)\n",
    "    # Resumindo os resultados\n",
    "    summarize_results(scores)\n",
    " \n",
    "# Rodando o experimento\n",
    "run_experiment()"
   ]
  },
  {
   "cell_type": "markdown",
   "metadata": {},
   "source": [
    "### Avaliando o hiperparâmetro \"epochs\""
   ]
  },
  {
   "cell_type": "code",
   "execution_count": 11,
   "metadata": {},
   "outputs": [
    {
     "name": "stdout",
     "output_type": "stream",
     "text": [
      ">p=10 #1: 78.541\n",
      ">p=10 #2: 76.590\n",
      ">p=10 #3: 80.407\n",
      ">p=10 #4: 80.407\n",
      ">p=10 #5: 82.273\n",
      ">p=10 #6: 79.389\n",
      ">p=10 #7: 76.081\n",
      ">p=10 #8: 80.153\n",
      ">p=10 #9: 81.086\n",
      ">p=10 #10: 78.287\n",
      ">p=20 #1: 85.411\n",
      ">p=20 #2: 86.429\n",
      ">p=20 #3: 85.327\n",
      ">p=20 #4: 84.902\n",
      ">p=20 #5: 82.782\n",
      ">p=20 #6: 84.648\n",
      ">p=20 #7: 84.309\n",
      ">p=20 #8: 83.630\n",
      ">p=20 #9: 81.679\n",
      ">p=20 #10: 84.478\n",
      ">p=40 #1: 83.715\n",
      ">p=40 #2: 88.974\n",
      ">p=40 #3: 89.483\n",
      ">p=40 #4: 89.652\n",
      ">p=40 #5: 88.210\n",
      ">p=40 #6: 88.719\n",
      ">p=40 #7: 86.514\n",
      ">p=40 #8: 88.550\n",
      ">p=40 #9: 87.447\n",
      ">p=40 #10: 87.447\n",
      ">p=80 #1: 91.942\n",
      ">p=80 #2: 89.228\n",
      ">p=80 #3: 89.228\n",
      ">p=80 #4: 90.076\n",
      ">p=80 #5: 89.822\n",
      ">p=80 #6: 91.773\n",
      ">p=80 #7: 91.773\n",
      ">p=80 #8: 89.567\n",
      ">p=80 #9: 90.925\n",
      ">p=80 #10: 90.076\n",
      "[[78.54113662212556, 76.59033076858196, 80.40712466171173, 80.40712474765567, 82.27311287318578, 79.38931299226581, 76.08142491616466, 80.15267177089177, 81.08566579826815, 78.28668360997297], [85.41136561459257, 86.42917731942717, 85.32654797252303, 84.90245967623133, 82.78201871043652, 84.64800683596661, 84.30873623229974, 83.63019508057677, 81.67938937869893, 84.47837155182751], [83.71501268725763, 88.9737065815137, 89.482612433931, 89.6522477180701, 88.21034775233248, 88.7192536047498, 86.5139948755528, 88.54961837116593, 87.4469890242618, 87.4469890242618], [91.94232400339271, 89.22815950772235, 89.22815950772235, 90.07633592841785, 89.8218830022092, 91.77268876980887, 91.77268876980887, 89.56743002544529, 90.9245122985581, 90.07633592841785]] [10, 20, 40, 80]\n",
      "Param=10: 79.321% (+/-1.858)\n",
      "Param=20: 84.360% (+/-1.301)\n",
      "Param=40: 87.871% (+/-1.666)\n",
      "Param=80: 90.441% (+/-1.019)\n"
     ]
    },
    {
     "data": {
      "image/png": "[encoded data removed]",
      "text/plain": [
       "<Figure size 432x288 with 1 Axes>"
      ]
     },
     "metadata": {},
     "output_type": "display_data"
    }
   ],
   "source": [
    "# Ajustando e validando um modelo\n",
    "def evaluate_model(X_train, y_train, X_test, y_test, n_epochs):\n",
    "    verbose, epochs, batch_size = 0, n_epochs, 32\n",
    "    n_timesteps, n_features, n_outputs = X_train.shape[1], X_train.shape[2], y_train.shape[1]\n",
    "    model = Sequential()\n",
    "    model.add(Conv1D(filters=64, kernel_size=3, activation='relu', input_shape=(n_timesteps,n_features)))\n",
    "    model.add(Conv1D(filters=64, kernel_size=3, activation='relu'))\n",
    "    model.add(Dropout(0.5))\n",
    "    model.add(MaxPooling1D(pool_size=2))\n",
    "    model.add(Flatten())\n",
    "    model.add(Dense(100, activation='relu'))\n",
    "    model.add(Dense(n_outputs, activation='softmax'))\n",
    "    model.compile(loss='categorical_crossentropy', optimizer='adam', metrics=['accuracy'])\n",
    "    # Ajustando a rede\n",
    "    model.fit(X_train, y_train, epochs=epochs, batch_size=batch_size, verbose=verbose)\n",
    "    # Validando o modelo\n",
    "    _, accuracy = model.evaluate(X_test, y_test, batch_size=batch_size, verbose=0)\n",
    "    return accuracy\n",
    " \n",
    "# Resumindo as pontuações\n",
    "def summarize_results(scores, params):\n",
    "    print(scores, params)\n",
    "    # Resumindo média e desvio padrão\n",
    "    for i in range(len(scores)):\n",
    "        m, s = mean(scores[i]), std(scores[i])\n",
    "        print('Param=%d: %.3f%% (+/-%.3f)' % (params[i], m, s))\n",
    "    # Boxplot das pontuações\n",
    "    pyplot.boxplot(scores, labels=params)\n",
    "    pyplot.savefig('exp_cnn_epochs[2].png')\n",
    " \n",
    "# Rodando um experimento\n",
    "def run_experiment(params, repeats=10):\n",
    "    # Testando cada parâmetro\n",
    "    all_scores = list()\n",
    "    for p in params:\n",
    "        # Repetindo o experimento\n",
    "        scores = list()\n",
    "        for r in range(repeats):\n",
    "            score = evaluate_model(X_train, y_train, X_test, y_test, p)\n",
    "            score = score * 100.0\n",
    "            print('>p=%d #%d: %.3f' % (p, r+1, score))\n",
    "            scores.append(score)\n",
    "        all_scores.append(scores)\n",
    "    # Resumindo os resultados\n",
    "    summarize_results(all_scores, params)\n",
    " \n",
    "# Rodando o experimento\n",
    "n_params = [10, 20, 40, 80]\n",
    "run_experiment(n_params)"
   ]
  },
  {
   "cell_type": "markdown",
   "metadata": {},
   "source": [
    "### Avaliando o hiperparâmetro \"Batch size\""
   ]
  },
  {
   "cell_type": "code",
   "execution_count": 12,
   "metadata": {},
   "outputs": [
    {
     "name": "stdout",
     "output_type": "stream",
     "text": [
      ">p=32 #1: 83.630\n",
      ">p=32 #2: 84.478\n",
      ">p=32 #3: 84.648\n",
      ">p=32 #4: 82.019\n",
      ">p=32 #5: 83.291\n",
      ">p=32 #6: 81.086\n",
      ">p=32 #7: 80.153\n",
      ">p=32 #8: 85.157\n",
      ">p=32 #9: 81.425\n",
      ">p=32 #10: 82.782\n",
      ">p=64 #1: 80.068\n",
      ">p=64 #2: 82.103\n",
      ">p=64 #3: 79.983\n",
      ">p=64 #4: 79.898\n",
      ">p=64 #5: 82.358\n",
      ">p=64 #6: 81.340\n",
      ">p=64 #7: 78.541\n",
      ">p=64 #8: 75.488\n",
      ">p=64 #9: 80.237\n",
      ">p=64 #10: 81.425\n",
      ">p=128 #1: 81.510\n",
      ">p=128 #2: 77.608\n",
      ">p=128 #3: 77.778\n",
      ">p=128 #4: 77.014\n",
      ">p=128 #5: 78.202\n",
      ">p=128 #6: 79.813\n",
      ">p=128 #7: 79.304\n",
      ">p=128 #8: 73.452\n",
      ">p=128 #9: 76.421\n",
      ">p=128 #10: 76.166\n",
      "[[83.63019504518809, 84.4783715669941, 84.64800675002269, 82.01865984586662, 83.29092447690988, 81.08566579826815, 80.15267182144702, 85.15691268838393, 81.42493640193503, 82.78201867504784], [80.0678541439888, 82.10347758904668, 79.98303643619741, 79.89821884468311, 82.35793041414482, 81.34011875986548, 78.54113657157032, 75.48770147223307, 80.23748946351658, 81.42493645249029], [81.50975399344932, 77.60814250880526, 77.77777775755568, 77.0144190143184, 78.20186596790343, 79.81340115205832, 79.304495299641, 73.4520780120086, 76.42069548444287, 76.16624262395605]] [32, 64, 128]\n",
      "Param=32: 82.867% (+/-1.585)\n",
      "Param=64: 80.144% (+/-1.902)\n",
      "Param=128: 77.727% (+/-2.105)\n"
     ]
    },
    {
     "data": {
      "image/png": "[encoded data removed]",
      "text/plain": [
       "<Figure size 432x288 with 1 Axes>"
      ]
     },
     "metadata": {},
     "output_type": "display_data"
    }
   ],
   "source": [
    "# Ajustando e validando um modelo\n",
    "def evaluate_model(X_train, y_train, X_test, y_test, n_batch_size):\n",
    "    verbose, epochs, batch_size = 0, 15, n_batch_size\n",
    "    n_timesteps, n_features, n_outputs = X_train.shape[1], X_train.shape[2], y_train.shape[1]\n",
    "    model = Sequential()\n",
    "    model.add(Conv1D(filters=64, kernel_size=3, activation='relu', input_shape=(n_timesteps,n_features)))\n",
    "    model.add(Conv1D(filters=64, kernel_size=3, activation='relu'))\n",
    "    model.add(Dropout(0.5))\n",
    "    model.add(MaxPooling1D(pool_size=2))\n",
    "    model.add(Flatten())\n",
    "    model.add(Dense(100, activation='relu'))\n",
    "    model.add(Dense(n_outputs, activation='softmax'))\n",
    "    model.compile(loss='categorical_crossentropy', optimizer='adam', metrics=['accuracy'])\n",
    "    # Ajustando a rede\n",
    "    model.fit(X_train, y_train, epochs=epochs, batch_size=batch_size, verbose=verbose)\n",
    "    # Validando o modelo\n",
    "    _, accuracy = model.evaluate(X_test, y_test, batch_size=batch_size, verbose=0)\n",
    "    return accuracy\n",
    " \n",
    "# Resumindo as pontuações\n",
    "def summarize_results(scores, params):\n",
    "    print(scores, params)\n",
    "    # Resumindo média e desvio padrão\n",
    "    for i in range(len(scores)):\n",
    "        m, s = mean(scores[i]), std(scores[i])\n",
    "        print('Param=%d: %.3f%% (+/-%.3f)' % (params[i], m, s))\n",
    "    # Boxplot das pontuações\n",
    "    pyplot.boxplot(scores, labels=params)\n",
    "    pyplot.savefig('exp_cnn_batch_size[2].png')\n",
    " \n",
    "# Rodando um experimento\n",
    "def run_experiment(params, repeats=10):\n",
    "    # Testando cada parâmetro\n",
    "    all_scores = list()\n",
    "    for p in params:\n",
    "        # Repetindo experimento\n",
    "        scores = list()\n",
    "        for r in range(repeats):\n",
    "            score = evaluate_model(X_train, y_train, X_test, y_test, p)\n",
    "            score = score * 100.0\n",
    "            print('>p=%d #%d: %.3f' % (p, r+1, score))\n",
    "            scores.append(score)\n",
    "        all_scores.append(scores)\n",
    "    # Resumindo resultados\n",
    "    summarize_results(all_scores, params)\n",
    " \n",
    "# Rodando o experimento\n",
    "n_params = [32, 64, 128]\n",
    "run_experiment(n_params)"
   ]
  },
  {
   "cell_type": "markdown",
   "metadata": {},
   "source": [
    "### Modelo final\n",
    "Após a avaliação do comportamento do modelo com os diversos valores para os hiperparâmetros, foram escolhidos os valores para o modelo final."
   ]
  },
  {
   "cell_type": "code",
   "execution_count": 14,
   "metadata": {},
   "outputs": [
    {
     "name": "stdout",
     "output_type": "stream",
     "text": [
      ">#1: 88.634\n",
      ">#2: 84.139\n",
      ">#3: 92.282\n",
      ">#4: 88.380\n",
      ">#5: 92.027\n",
      ">#6: 89.567\n",
      ">#7: 90.416\n",
      ">#8: 85.411\n",
      ">#9: 89.483\n",
      ">#10: 90.500\n",
      "[88.6344360132355, 84.13910089760539, 92.28159457167091, 88.37998308702683, 92.02714169601751, 89.56743002544529, 90.4156064461408, 85.41136552864864, 89.482612433931, 90.50042408821035]\n",
      "Accuracy: 89.084% (+/-2.484)\n"
     ]
    }
   ],
   "source": [
    "from keras import regularizers\n",
    "# Ajustando e validando um modelo\n",
    "def evaluate_model(X_train, y_train, X_test, y_test):\n",
    "    verbose, epochs, batch_size = 0, 80, 32\n",
    "    n_timesteps, n_features, n_outputs = X_train.shape[1], X_train.shape[2], y_train.shape[1]\n",
    "    model = Sequential()\n",
    "    model.add(Conv1D(2,2,activation='relu',input_shape=(37, 1)))\n",
    "    model.add(Conv1D(filters=256, kernel_size=5, activation='relu', input_shape=(n_timesteps,n_features)))\n",
    "    model.add(Conv1D(filters=256, kernel_size=5, activation='relu'))\n",
    "    model.add(Dropout(0.5))\n",
    "    model.add(MaxPooling1D(pool_size=2))\n",
    "    model.add(Flatten())\n",
    "    model.add(Dense(100, activation='relu', kernel_regularizer=regularizers.l2(0.001)))\n",
    "    model.add(Dense(n_outputs, activation='softmax'))\n",
    "    model.compile(loss='categorical_crossentropy', optimizer='adam', metrics=['accuracy'])\n",
    "    # Ajustando a rede\n",
    "    model.fit(X_train, y_train, epochs=epochs, batch_size=batch_size, verbose=verbose)\n",
    "    # Validando o modelo\n",
    "    _, accuracy = model.evaluate(X_test, y_test, batch_size=batch_size, verbose=0)\n",
    "    return accuracy\n",
    "\n",
    "# Resumindo as pontuações\n",
    "def summarize_results(scores):\n",
    "    print(scores)\n",
    "    m, s = mean(scores), std(scores)\n",
    "    print('Accuracy: %.3f%% (+/-%.3f)' % (m, s))\n",
    "\n",
    "# Rodando um experimento\n",
    "def run_experiment(repeats=10):\n",
    "    # Repetindo o experimento\n",
    "    scores = list()\n",
    "    for r in range(repeats):\n",
    "        score = evaluate_model(X_train, y_train, X_test, y_test)\n",
    "        score = score * 100.0\n",
    "        print('>#%d: %.3f' % (r+1, score))\n",
    "        scores.append(score)\n",
    "    # Resumindo os resultados\n",
    "    summarize_results(scores)\n",
    "\n",
    "# Rodando o experimento\n",
    "run_experiment()"
   ]
  }
 ],
 "metadata": {
  "kernelspec": {
   "display_name": "conda_python3",
   "language": "python",
   "name": "conda_python3"
  },
  "language_info": {
   "codemirror_mode": {
    "name": "ipython",
    "version": 3
   },
   "file_extension": ".py",
   "mimetype": "text/x-python",
   "name": "python",
   "nbconvert_exporter": "python",
   "pygments_lexer": "ipython3",
   "version": "3.6.5"
  }
 },
 "nbformat": 4,
 "nbformat_minor": 2
}
