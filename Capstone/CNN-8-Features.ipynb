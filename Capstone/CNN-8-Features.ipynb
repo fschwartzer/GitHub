{
 "cells": [
  {
   "cell_type": "markdown",
   "metadata": {},
   "source": [
    "# Convolutional Neural Network (CNN) com 8 atributos\n",
    "\n",
    "## Utilização dos atributos Acelerômetro, Som, Orientação, Aceleração Linear, Giroscópio, Vetor de Rotação, Vetor de Rotação para Jogos e Giroscópio descalibrado."
   ]
  },
  {
   "cell_type": "markdown",
   "metadata": {},
   "source": [
    "### Instalação de recursos no notebook"
   ]
  },
  {
   "cell_type": "code",
   "execution_count": 1,
   "metadata": {},
   "outputs": [
    {
     "name": "stdout",
     "output_type": "stream",
     "text": [
      "Collecting pip\n",
      "\u001b[?25l  Downloading https://files.pythonhosted.org/packages/c2/d7/90f34cb0d83a6c5631cf71dfe64cc1054598c843a92b400e55675cc2ac37/pip-18.1-py2.py3-none-any.whl (1.3MB)\n",
      "\u001b[K    100% |████████████████████████████████| 1.3MB 22.4MB/s ta 0:00:01\n",
      "\u001b[?25hInstalling collected packages: pip\n",
      "  Found existing installation: pip 10.0.1\n",
      "    Uninstalling pip-10.0.1:\n",
      "      Successfully uninstalled pip-10.0.1\n",
      "Successfully installed pip-18.1\n",
      "Collecting keras\n",
      "\u001b[?25l  Downloading https://files.pythonhosted.org/packages/5e/10/aa32dad071ce52b5502266b5c659451cfd6ffcbf14e6c8c4f16c0ff5aaab/Keras-2.2.4-py2.py3-none-any.whl (312kB)\n",
      "\u001b[K    100% |████████████████████████████████| 317kB 23.9MB/s ta 0:00:01\n",
      "\u001b[?25hRequirement already satisfied: scipy>=0.14 in /home/ec2-user/anaconda3/envs/python3/lib/python3.6/site-packages (from keras) (1.1.0)\n",
      "Collecting keras-applications>=1.0.6 (from keras)\n",
      "\u001b[?25l  Downloading https://files.pythonhosted.org/packages/3f/c4/2ff40221029f7098d58f8d7fb99b97e8100f3293f9856f0fb5834bef100b/Keras_Applications-1.0.6-py2.py3-none-any.whl (44kB)\n",
      "\u001b[K    100% |████████████████████████████████| 51kB 28.5MB/s ta 0:00:01\n",
      "\u001b[?25hRequirement already satisfied: pyyaml in /home/ec2-user/anaconda3/envs/python3/lib/python3.6/site-packages (from keras) (3.12)\n",
      "Collecting keras-preprocessing>=1.0.5 (from keras)\n",
      "  Downloading https://files.pythonhosted.org/packages/fc/94/74e0fa783d3fc07e41715973435dd051ca89c550881b3454233c39c73e69/Keras_Preprocessing-1.0.5-py2.py3-none-any.whl\n",
      "Requirement already satisfied: h5py in /home/ec2-user/anaconda3/envs/python3/lib/python3.6/site-packages (from keras) (2.8.0)\n",
      "Requirement already satisfied: six>=1.9.0 in /home/ec2-user/anaconda3/envs/python3/lib/python3.6/site-packages (from keras) (1.11.0)\n",
      "Requirement already satisfied: numpy>=1.9.1 in /home/ec2-user/anaconda3/envs/python3/lib/python3.6/site-packages (from keras) (1.14.5)\n",
      "Installing collected packages: keras-applications, keras-preprocessing, keras\n",
      "Successfully installed keras-2.2.4 keras-applications-1.0.6 keras-preprocessing-1.0.5\n",
      "Collecting tensorflow\n",
      "\u001b[?25l  Downloading https://files.pythonhosted.org/packages/22/cc/ca70b78087015d21c5f3f93694107f34ebccb3be9624385a911d4b52ecef/tensorflow-1.12.0-cp36-cp36m-manylinux1_x86_64.whl (83.1MB)\n",
      "\u001b[K    100% |████████████████████████████████| 83.1MB 621kB/s eta 0:00:01\n",
      "\u001b[?25hCollecting protobuf>=3.6.1 (from tensorflow)\n",
      "\u001b[?25l  Downloading https://files.pythonhosted.org/packages/c2/f9/28787754923612ca9bfdffc588daa05580ed70698add063a5629d1a4209d/protobuf-3.6.1-cp36-cp36m-manylinux1_x86_64.whl (1.1MB)\n",
      "\u001b[K    100% |████████████████████████████████| 1.1MB 29.4MB/s ta 0:00:01\n",
      "\u001b[?25hRequirement already satisfied: six>=1.10.0 in /home/ec2-user/anaconda3/envs/python3/lib/python3.6/site-packages (from tensorflow) (1.11.0)\n",
      "Collecting gast>=0.2.0 (from tensorflow)\n",
      "  Downloading https://files.pythonhosted.org/packages/5c/78/ff794fcae2ce8aa6323e789d1f8b3b7765f601e7702726f430e814822b96/gast-0.2.0.tar.gz\n",
      "Requirement already satisfied: numpy>=1.13.3 in /home/ec2-user/anaconda3/envs/python3/lib/python3.6/site-packages (from tensorflow) (1.14.5)\n",
      "Collecting termcolor>=1.1.0 (from tensorflow)\n",
      "  Downloading https://files.pythonhosted.org/packages/8a/48/a76be51647d0eb9f10e2a4511bf3ffb8cc1e6b14e9e4fab46173aa79f981/termcolor-1.1.0.tar.gz\n",
      "Collecting grpcio>=1.8.6 (from tensorflow)\n",
      "\u001b[?25l  Downloading https://files.pythonhosted.org/packages/3b/bb/701d879849c938028c09fdb5405dbde7c86644bbbb90098094002db23ded/grpcio-1.17.1-cp36-cp36m-manylinux1_x86_64.whl (10.1MB)\n",
      "\u001b[K    100% |████████████████████████████████| 10.1MB 5.6MB/s eta 0:00:01\n",
      "\u001b[?25hRequirement already satisfied: wheel>=0.26 in /home/ec2-user/anaconda3/envs/python3/lib/python3.6/site-packages (from tensorflow) (0.31.1)\n",
      "Collecting absl-py>=0.1.6 (from tensorflow)\n",
      "\u001b[?25l  Downloading https://files.pythonhosted.org/packages/0c/63/f505d2d4c21db849cf80bad517f0065a30be6b006b0a5637f1b95584a305/absl-py-0.6.1.tar.gz (94kB)\n",
      "\u001b[K    100% |████████████████████████████████| 102kB 39.0MB/s a 0:00:01\n",
      "\u001b[?25hCollecting astor>=0.6.0 (from tensorflow)\n",
      "  Downloading https://files.pythonhosted.org/packages/35/6b/11530768cac581a12952a2aad00e1526b89d242d0b9f59534ef6e6a1752f/astor-0.7.1-py2.py3-none-any.whl\n",
      "Requirement already satisfied: keras-preprocessing>=1.0.5 in /home/ec2-user/anaconda3/envs/python3/lib/python3.6/site-packages (from tensorflow) (1.0.5)\n",
      "Requirement already satisfied: keras-applications>=1.0.6 in /home/ec2-user/anaconda3/envs/python3/lib/python3.6/site-packages (from tensorflow) (1.0.6)\n",
      "Collecting tensorboard<1.13.0,>=1.12.0 (from tensorflow)\n",
      "\u001b[?25l  Downloading https://files.pythonhosted.org/packages/bd/7e/528c868bb8a0542c8a5686ff3a08502d2691bd50499c6e55f8989fa8e5a0/tensorboard-1.12.1-py3-none-any.whl (3.0MB)\n",
      "\u001b[K    100% |████████████████████████████████| 3.1MB 16.0MB/s ta 0:00:01\n",
      "\u001b[?25hRequirement already satisfied: setuptools in /home/ec2-user/anaconda3/envs/python3/lib/python3.6/site-packages (from protobuf>=3.6.1->tensorflow) (39.1.0)\n",
      "Requirement already satisfied: h5py in /home/ec2-user/anaconda3/envs/python3/lib/python3.6/site-packages (from keras-applications>=1.0.6->tensorflow) (2.8.0)\n",
      "Collecting markdown>=2.6.8 (from tensorboard<1.13.0,>=1.12.0->tensorflow)\n",
      "\u001b[?25l  Downloading https://files.pythonhosted.org/packages/7a/6b/5600647404ba15545ec37d2f7f58844d690baf2f81f3a60b862e48f29287/Markdown-3.0.1-py2.py3-none-any.whl (89kB)\n",
      "\u001b[K    100% |████████████████████████████████| 92kB 36.1MB/s ta 0:00:01\n",
      "\u001b[?25hRequirement already satisfied: werkzeug>=0.11.10 in /home/ec2-user/anaconda3/envs/python3/lib/python3.6/site-packages (from tensorboard<1.13.0,>=1.12.0->tensorflow) (0.14.1)\n",
      "Building wheels for collected packages: gast, termcolor, absl-py\n",
      "  Running setup.py bdist_wheel for gast ... \u001b[?25ldone\n",
      "\u001b[?25h  Stored in directory: /home/ec2-user/.cache/pip/wheels/9a/1f/0e/3cde98113222b853e98fc0a8e9924480a3e25f1b4008cedb4f\n",
      "  Running setup.py bdist_wheel for termcolor ... \u001b[?25ldone\n",
      "\u001b[?25h  Stored in directory: /home/ec2-user/.cache/pip/wheels/7c/06/54/bc84598ba1daf8f970247f550b175aaaee85f68b4b0c5ab2c6\n",
      "  Running setup.py bdist_wheel for absl-py ... \u001b[?25ldone\n",
      "\u001b[?25h  Stored in directory: /home/ec2-user/.cache/pip/wheels/18/ea/5e/e36e1b8739e78cd2eba0a08fdc602c2b16a4b263912af8cb64\n",
      "Successfully built gast termcolor absl-py\n",
      "Installing collected packages: protobuf, gast, termcolor, grpcio, absl-py, astor, markdown, tensorboard, tensorflow\n",
      "  Found existing installation: protobuf 3.6.0\n",
      "    Uninstalling protobuf-3.6.0:\n",
      "      Successfully uninstalled protobuf-3.6.0\n",
      "Successfully installed absl-py-0.6.1 astor-0.7.1 gast-0.2.0 grpcio-1.17.1 markdown-3.0.1 protobuf-3.6.1 tensorboard-1.12.1 tensorflow-1.12.0 termcolor-1.1.0\n",
      "Collecting pydot\n",
      "  Downloading https://files.pythonhosted.org/packages/33/d1/b1479a770f66d962f545c2101630ce1d5592d90cb4f083d38862e93d16d2/pydot-1.4.1-py2.py3-none-any.whl\n",
      "Requirement already satisfied: pyparsing>=2.1.4 in /home/ec2-user/anaconda3/envs/python3/lib/python3.6/site-packages (from pydot) (2.2.0)\n",
      "Installing collected packages: pydot\n",
      "Successfully installed pydot-1.4.1\n"
     ]
    }
   ],
   "source": [
    "import sys\n",
    "!{sys.executable} -m pip install --upgrade pip\n",
    "!{sys.executable} -m pip install keras\n",
    "!{sys.executable} -m pip install tensorflow\n",
    "!{sys.executable} -m pip install pydot"
   ]
  },
  {
   "cell_type": "markdown",
   "metadata": {},
   "source": [
    "### Importação de bibliotecas e carregamento do arquivo (Janela de 5 segundos)"
   ]
  },
  {
   "cell_type": "code",
   "execution_count": 2,
   "metadata": {},
   "outputs": [],
   "source": [
    "import pandas as pd \n",
    "import seaborn as sns\n",
    "import matplotlib.pyplot as plt\n",
    "import numpy as np\n",
    "\n",
    "data = pd.read_csv('dataset_5secondWindow[2].csv')"
   ]
  },
  {
   "cell_type": "markdown",
   "metadata": {},
   "source": [
    "### Divisão da base de dados em dados de treino e teste"
   ]
  },
  {
   "cell_type": "code",
   "execution_count": 3,
   "metadata": {},
   "outputs": [
    {
     "name": "stdout",
     "output_type": "stream",
     "text": [
      "['Car' 'Walking' 'Train' 'Bus' 'Still']\n",
      "----------------------------------------\n",
      "Walking    954\n",
      "Bus        950\n",
      "Car        941\n",
      "Still      936\n",
      "Train      933\n",
      "Name: target, dtype: int64\n"
     ]
    },
    {
     "name": "stderr",
     "output_type": "stream",
     "text": [
      "/home/ec2-user/anaconda3/envs/python3/lib/python3.6/site-packages/sklearn/cross_validation.py:41: DeprecationWarning: This module was deprecated in version 0.18 in favor of the model_selection module into which all the refactored classes and functions are moved. Also note that the interface of the new CV iterators are different from that of this module. This module will be removed in 0.20.\n",
      "  \"This module will be removed in 0.20.\", DeprecationWarning)\n"
     ]
    }
   ],
   "source": [
    "from sklearn.cross_validation import train_test_split\n",
    "df, test = train_test_split(data, test_size = 0.2, random_state = 0)\n",
    "\n",
    "df.T\n",
    "\n",
    "print(df.target.unique())\n",
    "print(\"----------------------------------------\")\n",
    "print(df.target.value_counts())"
   ]
  },
  {
   "cell_type": "markdown",
   "metadata": {},
   "source": [
    "### Verificação das quantidades de dados para cada um dos rótulos"
   ]
  },
  {
   "cell_type": "code",
   "execution_count": 4,
   "metadata": {},
   "outputs": [
    {
     "data": {
      "image/png": "[encoded data removed]",
      "text/plain": [
       "<Figure size 936x432 with 1 Axes>"
      ]
     },
     "metadata": {},
     "output_type": "display_data"
    }
   ],
   "source": [
    "sns.set(rc={'figure.figsize':(13,6)})\n",
    "fig = sns.countplot(x = \"target\" , data = df)\n",
    "plt.xlabel(\"Transportation Mode\")\n",
    "plt.ylabel(\"Count\")\n",
    "plt.title(\"Transportation Mode Using Count\")\n",
    "plt.grid(True)\n",
    "plt.show(fig)"
   ]
  },
  {
   "cell_type": "markdown",
   "metadata": {},
   "source": [
    "### Verificação das dimensões dos dados de treino e dos dados de teste e dos nomes dos atributos"
   ]
  },
  {
   "cell_type": "code",
   "execution_count": 5,
   "metadata": {},
   "outputs": [
    {
     "name": "stdout",
     "output_type": "stream",
     "text": [
      "(4714, 34) (1179, 34)\n"
     ]
    },
    {
     "data": {
      "text/plain": [
       "Index(['time', 'android.sensor.accelerometer#mean',\n",
       "       'android.sensor.accelerometer#min', 'android.sensor.accelerometer#max',\n",
       "       'android.sensor.accelerometer#std',\n",
       "       'android.sensor.game_rotation_vector#mean',\n",
       "       'android.sensor.game_rotation_vector#min',\n",
       "       'android.sensor.game_rotation_vector#max',\n",
       "       'android.sensor.game_rotation_vector#std',\n",
       "       'android.sensor.gyroscope#mean', 'android.sensor.gyroscope#min',\n",
       "       'android.sensor.gyroscope#max', 'android.sensor.gyroscope#std',\n",
       "       'android.sensor.gyroscope_uncalibrated#mean',\n",
       "       'android.sensor.gyroscope_uncalibrated#min',\n",
       "       'android.sensor.gyroscope_uncalibrated#max',\n",
       "       'android.sensor.gyroscope_uncalibrated#std',\n",
       "       'android.sensor.linear_acceleration#mean',\n",
       "       'android.sensor.linear_acceleration#min',\n",
       "       'android.sensor.linear_acceleration#max',\n",
       "       'android.sensor.linear_acceleration#std',\n",
       "       'android.sensor.orientation#mean', 'android.sensor.orientation#min',\n",
       "       'android.sensor.orientation#max', 'android.sensor.orientation#std',\n",
       "       'android.sensor.rotation_vector#mean',\n",
       "       'android.sensor.rotation_vector#min',\n",
       "       'android.sensor.rotation_vector#max',\n",
       "       'android.sensor.rotation_vector#std', 'sound#mean', 'sound#min',\n",
       "       'sound#max', 'sound#std', 'target'],\n",
       "      dtype='object')"
      ]
     },
     "execution_count": 5,
     "metadata": {},
     "output_type": "execute_result"
    }
   ],
   "source": [
    "print(df.shape , test.shape)\n",
    "\n",
    "df.columns"
   ]
  },
  {
   "cell_type": "markdown",
   "metadata": {},
   "source": [
    "### Verificação da dimensionalidade de alguns atributos"
   ]
  },
  {
   "cell_type": "code",
   "execution_count": 6,
   "metadata": {},
   "outputs": [
    {
     "data": {
      "image/png": "[encoded data removed]",
      "text/plain": [
       "<Figure size 1080x360 with 1 Axes>"
      ]
     },
     "metadata": {},
     "output_type": "display_data"
    },
    {
     "data": {
      "image/png": "[encoded data removed]",
      "text/plain": [
       "<Figure size 1080x360 with 1 Axes>"
      ]
     },
     "metadata": {},
     "output_type": "display_data"
    },
    {
     "data": {
      "image/png": "[encoded data removed]",
      "text/plain": [
       "<Figure size 1080x360 with 1 Axes>"
      ]
     },
     "metadata": {},
     "output_type": "display_data"
    }
   ],
   "source": [
    "sns.set(rc={'figure.figsize':(15,5)})\n",
    "fig1 = sns.stripplot(x='target', y= 'android.sensor.accelerometer#mean', data= df, jitter=True)\n",
    "plt.title(\"Feature Distribution\")\n",
    "plt.grid(True)\n",
    "plt.show(fig)\n",
    "\n",
    "sns.set(rc={'figure.figsize':(15,5)})\n",
    "fig1 = sns.stripplot(x='target', y= 'android.sensor.gyroscope#mean', data= df, jitter=True)\n",
    "plt.title(\"Feature Distribution\")\n",
    "plt.grid(True)\n",
    "plt.show(fig)\n",
    "\n",
    "sns.set(rc={'figure.figsize':(15,5)})\n",
    "fig1 = sns.stripplot(x='target', y= 'sound#mean', data= df, jitter=True)\n",
    "plt.title(\"Feature Distribution\")\n",
    "plt.grid(True)\n",
    "plt.show(fig)"
   ]
  },
  {
   "cell_type": "markdown",
   "metadata": {},
   "source": [
    "### Redimensionamento dos atributos"
   ]
  },
  {
   "cell_type": "code",
   "execution_count": 7,
   "metadata": {},
   "outputs": [
    {
     "name": "stdout",
     "output_type": "stream",
     "text": [
      "[[3.38733432e-02 2.17848509e-01 6.18048155e-01 ... 9.33130391e-01\n",
      "  9.33130391e-01 2.78341333e-02]\n",
      " [6.18556701e-02 2.89565313e-01 5.41922075e-01 ... 8.34234507e-01\n",
      "  8.34234507e-01 2.64847844e-01]\n",
      " [9.72017673e-02 4.52721918e-01 5.15557803e-01 ... 9.83575046e-01\n",
      "  9.83575046e-01 1.71278606e-03]\n",
      " ...\n",
      " [7.65832106e-02 2.30313244e-01 6.84219449e-01 ... 9.94376207e-01\n",
      "  9.94376207e-01 3.80614686e-04]\n",
      " [1.03092784e-02 2.57707979e-01 8.01181580e-01 ... 9.84689727e-01\n",
      "  9.84689727e-01 0.00000000e+00]\n",
      " [5.53755523e-01 2.56049388e-01 7.72251547e-01 ... 9.93673442e-01\n",
      "  9.93673442e-01 9.91898638e-01]]\n",
      "[[0.1464497  0.33053002 0.94231284 ... 0.54126433 0.54126433 0.08667421]\n",
      " [0.51923077 0.37455302 0.97330651 ... 0.91368991 0.91368991 0.0051961 ]\n",
      " [0.00147929 0.28878365 0.62005137 ... 0.         0.         0.        ]\n",
      " ...\n",
      " [0.02810651 0.81023559 0.22308111 ... 0.         0.         0.        ]\n",
      " [0.33284024 0.31277692 0.79563477 ... 0.80371045 0.80371045 0.01079654]\n",
      " [0.74556213 0.37676254 0.9488591  ... 0.99394891 0.99394891 0.06247297]]\n"
     ]
    }
   ],
   "source": [
    "from sklearn.preprocessing import MinMaxScaler\n",
    "scaler = MinMaxScaler()\n",
    "scaler.fit(df.iloc[:,0:33])\n",
    "mat_train = scaler.transform(df.iloc[:,0:33])\n",
    "print(mat_train)\n",
    "\n",
    "scaler = MinMaxScaler()\n",
    "scaler.fit(test.iloc[:,0:33])\n",
    "mat_test = scaler.transform(test.iloc[:,0:33])\n",
    "print(mat_test)"
   ]
  },
  {
   "cell_type": "markdown",
   "metadata": {},
   "source": [
    "### Codificação das variáveis dependentes"
   ]
  },
  {
   "cell_type": "code",
   "execution_count": 8,
   "metadata": {},
   "outputs": [
    {
     "name": "stderr",
     "output_type": "stream",
     "text": [
      "/home/ec2-user/anaconda3/envs/python3/lib/python3.6/site-packages/ipykernel/__main__.py:8: SettingWithCopyWarning: \n",
      "A value is trying to be set on a copy of a slice from a DataFrame.\n",
      "Try using .loc[row_indexer,col_indexer] = value instead\n",
      "\n",
      "See the caveats in the documentation: http://pandas.pydata.org/pandas-docs/stable/indexing.html#indexing-view-versus-copy\n",
      "/home/ec2-user/anaconda3/envs/python3/lib/python3.6/site-packages/ipykernel/__main__.py:17: SettingWithCopyWarning: \n",
      "A value is trying to be set on a copy of a slice from a DataFrame.\n",
      "Try using .loc[row_indexer,col_indexer] = value instead\n",
      "\n",
      "See the caveats in the documentation: http://pandas.pydata.org/pandas-docs/stable/indexing.html#indexing-view-versus-copy\n"
     ]
    }
   ],
   "source": [
    "temp = []\n",
    "for i in df.target:\n",
    "    if i == \"Car\": temp.append(0)\n",
    "    if i == \"Walking\": temp.append(1)\n",
    "    if i == \"Train\": temp.append(2)\n",
    "    if i == \"Bus\": temp.append(3)\n",
    "    if i == \"Still\": temp.append(4)\n",
    "df[\"n_Target\"] = temp\n",
    "\n",
    "temp = []\n",
    "for i in test.target:\n",
    "    if i == \"Car\": temp.append(0)\n",
    "    if i == \"Walking\": temp.append(1)\n",
    "    if i == \"Train\": temp.append(2)\n",
    "    if i == \"Bus\": temp.append(3)\n",
    "    if i == \"Still\": temp.append(4)\n",
    "test[\"n_Target\"] = temp"
   ]
  },
  {
   "cell_type": "markdown",
   "metadata": {},
   "source": [
    "### Isolando as variáveis dependentes"
   ]
  },
  {
   "cell_type": "code",
   "execution_count": 9,
   "metadata": {},
   "outputs": [],
   "source": [
    "y_train = df[\"n_Target\"]\n",
    "\n",
    "y_test = test[\"n_Target\"]"
   ]
  },
  {
   "cell_type": "markdown",
   "metadata": {},
   "source": [
    "### Preparação dos dados para a rede neural"
   ]
  },
  {
   "cell_type": "code",
   "execution_count": 10,
   "metadata": {},
   "outputs": [
    {
     "name": "stderr",
     "output_type": "stream",
     "text": [
      "Using TensorFlow backend.\n"
     ]
    },
    {
     "name": "stdout",
     "output_type": "stream",
     "text": [
      "(4714, 33, 1) (4714, 5)\n",
      "(1179, 33, 1) (1179, 5)\n"
     ]
    }
   ],
   "source": [
    "import keras\n",
    "from keras.utils import to_categorical\n",
    "\n",
    "y_train = to_categorical(df.n_Target , num_classes=5)\n",
    "y_test = to_categorical(test.n_Target , num_classes=5)\n",
    "\n",
    "X_train = mat_train\n",
    "X_test = mat_test\n",
    "\n",
    "X_test = np.expand_dims(X_test, axis=2)\n",
    "X_train = np.expand_dims(X_train, axis=2)\n",
    "\n",
    "\n",
    "print(X_train.shape , y_train.shape)\n",
    "print(X_test.shape , y_test.shape)"
   ]
  },
  {
   "cell_type": "markdown",
   "metadata": {},
   "source": [
    "### Ajuste e validação do modelo\n",
    "Nesse primeiro momento, os hiperparâmetros foram definidos de forma arbitrária."
   ]
  },
  {
   "cell_type": "code",
   "execution_count": 11,
   "metadata": {},
   "outputs": [
    {
     "name": "stdout",
     "output_type": "stream",
     "text": [
      ">#1: 70.992\n",
      ">#2: 74.894\n",
      ">#3: 74.724\n",
      ">#4: 66.073\n",
      ">#5: 73.282\n",
      ">#6: 78.372\n",
      ">#7: 72.095\n",
      ">#8: 75.657\n",
      ">#9: 72.858\n",
      ">#10: 74.470\n",
      "[70.99236642738032, 74.89397792719096, 74.72434267844054, 66.07294311656904, 73.28244277842475, 78.37150128743122, 72.09499582483973, 75.6573367412056, 72.85835460346568, 74.46988971684321]\n",
      "Accuracy: 73.342% (+/-3.105)\n"
     ]
    }
   ],
   "source": [
    "from numpy import mean\n",
    "from numpy import std\n",
    "from pandas import read_csv\n",
    "from matplotlib import pyplot\n",
    "from keras.models import Sequential\n",
    "from keras.layers import Dense\n",
    "from keras.layers import Flatten\n",
    "from keras.layers import Dropout\n",
    "from keras.layers.convolutional import Conv1D\n",
    "from keras.layers.convolutional import MaxPooling1D\n",
    "from keras.utils import to_categorical\n",
    "\n",
    "# Ajustando e validando um modelo\n",
    "def evaluate_model(X_train, y_train, X_test, y_test):\n",
    "    verbose, epochs, batch_size = 0, 10, 32\n",
    "    n_timesteps, n_features, n_outputs = X_train.shape[1], X_train.shape[2], y_train.shape[1]\n",
    "    model = Sequential()\n",
    "    model.add(Conv1D(2,2,activation='relu',input_shape=(33, 1)))\n",
    "    model.add(Conv1D(filters=100, kernel_size=3, activation='relu', input_shape=(n_timesteps,n_features)))\n",
    "    model.add(Conv1D(filters=100, kernel_size=3, activation='relu'))\n",
    "    model.add(Dropout(0.5))\n",
    "    model.add(MaxPooling1D(pool_size=2))\n",
    "    model.add(Flatten())\n",
    "    model.add(Dense(100, activation='relu'))\n",
    "    model.add(Dense(n_outputs, activation='softmax'))\n",
    "    model.compile(loss='categorical_crossentropy', optimizer='adam', metrics=['accuracy'])\n",
    "    # Ajustando a rede\n",
    "    model.fit(X_train, y_train, epochs=epochs, batch_size=batch_size, verbose=verbose)\n",
    "    # Validando o modelo\n",
    "    _, accuracy = model.evaluate(X_test, y_test, batch_size=batch_size, verbose=0)\n",
    "    return accuracy\n",
    "\n",
    "# Resumindo as pontuações\n",
    "def summarize_results(scores):\n",
    "    print(scores)\n",
    "    m, s = mean(scores), std(scores)\n",
    "    print('Accuracy: %.3f%% (+/-%.3f)' % (m, s))\n",
    "\n",
    "# Rodando um experimento\n",
    "def run_experiment(repeats=10):\n",
    "    # Repetindo um experimento\n",
    "    scores = list()\n",
    "    for r in range(repeats):\n",
    "        score = evaluate_model(X_train, y_train, X_test, y_test)\n",
    "        score = score * 100.0\n",
    "        print('>#%d: %.3f' % (r+1, score))\n",
    "        scores.append(score)\n",
    "    # Resumindo os resultados\n",
    "    summarize_results(scores)\n",
    "\n",
    "# Rodando o experimento\n",
    "run_experiment()"
   ]
  },
  {
   "cell_type": "markdown",
   "metadata": {},
   "source": [
    "### Testando o hiperparâmetro \"filters'"
   ]
  },
  {
   "cell_type": "code",
   "execution_count": 12,
   "metadata": {},
   "outputs": [
    {
     "name": "stdout",
     "output_type": "stream",
     "text": [
      ">p=8 #1: 66.582\n",
      ">p=8 #2: 65.734\n",
      ">p=8 #3: 66.412\n",
      ">p=8 #4: 69.550\n",
      ">p=8 #5: 65.140\n",
      ">p=8 #6: 59.542\n",
      ">p=8 #7: 66.243\n",
      ">p=8 #8: 67.769\n",
      ">p=8 #9: 69.635\n",
      ">p=8 #10: 66.497\n",
      ">p=16 #1: 68.957\n",
      ">p=16 #2: 70.483\n",
      ">p=16 #3: 67.684\n",
      ">p=16 #4: 72.349\n",
      ">p=16 #5: 69.550\n",
      ">p=16 #6: 71.077\n",
      ">p=16 #7: 67.600\n",
      ">p=16 #8: 72.434\n",
      ">p=16 #9: 67.600\n",
      ">p=16 #10: 71.332\n",
      ">p=32 #1: 69.720\n",
      ">p=32 #2: 71.756\n",
      ">p=32 #3: 70.314\n",
      ">p=32 #4: 71.247\n",
      ">p=32 #5: 72.689\n",
      ">p=32 #6: 67.854\n",
      ">p=32 #7: 73.282\n",
      ">p=32 #8: 73.876\n",
      ">p=32 #9: 72.689\n",
      ">p=32 #10: 72.774\n",
      ">p=64 #1: 76.845\n",
      ">p=64 #2: 73.622\n",
      ">p=64 #3: 73.876\n",
      ">p=64 #4: 70.992\n",
      ">p=64 #5: 73.113\n",
      ">p=64 #6: 72.349\n",
      ">p=64 #7: 70.568\n",
      ">p=64 #8: 75.573\n",
      ">p=64 #9: 71.247\n",
      ">p=64 #10: 72.774\n",
      ">p=128 #1: 78.032\n",
      ">p=128 #2: 77.439\n",
      ">p=128 #3: 72.858\n",
      ">p=128 #4: 77.354\n",
      ">p=128 #5: 75.912\n",
      ">p=128 #6: 74.555\n",
      ">p=128 #7: 74.640\n",
      ">p=128 #8: 76.081\n",
      ">p=128 #9: 72.095\n",
      ">p=128 #10: 76.675\n",
      ">p=256 #1: 72.604\n",
      ">p=256 #2: 75.912\n",
      ">p=256 #3: 78.796\n",
      ">p=256 #4: 76.336\n",
      ">p=256 #5: 75.742\n",
      ">p=256 #6: 75.912\n",
      ">p=256 #7: 74.131\n",
      ">p=256 #8: 73.961\n",
      ">p=256 #9: 76.421\n",
      ">p=256 #10: 76.081\n",
      "[[66.5818490397637, 65.73367254829083, 66.41221380617985, 69.55046647680928, 65.13994913974791, 59.541984727768906, 66.24257852204074, 67.76929607929264, 69.63528420482277, 66.4970314482494], [68.95674303287768, 70.48346059012958, 67.68447840183443, 72.34944870049313, 69.55046656275321, 71.07718408461643, 67.59966079515355, 72.43426639311792, 67.59966075976487, 71.33163704621377], [69.72010176094838, 71.75572520600628, 70.31382525543523, 71.2468193182003, 72.68871923338264, 67.85411363541827, 73.28244281381343, 73.87616630830028, 72.68871923338264, 72.77353692600745], [76.8447837301793, 73.62171338209164, 73.87616625774504, 70.99236647793558, 73.1128074437304, 72.34944870049313, 70.56827823219915, 75.5725191496913, 71.24681936875554, 72.77353692600745], [78.032230719153, 77.4385071741109, 72.85835451752175, 77.35368963315186, 75.91178966741424, 74.55470744485669, 74.6395250009823, 76.08142496671992, 72.09499582483973, 76.67514849659545], [72.6039015913131, 75.9117897179695, 78.79558949777896, 76.33587792831726, 75.74215434788647, 75.911789616859, 74.130619148565, 73.96098395036984, 76.42069548444287, 76.08142500210859]] [8, 16, 32, 64, 128, 256]\n",
      "Param=8: 66.310% (+/-2.671)\n",
      "Param=16: 69.907% (+/-1.808)\n",
      "Param=32: 71.620% (+/-1.764)\n",
      "Param=64: 73.096% (+/-1.897)\n",
      "Param=128: 75.564% (+/-1.888)\n",
      "Param=256: 75.589% (+/-1.603)\n"
     ]
    },
    {
     "data": {
      "image/png": "[encoded data removed]",
      "text/plain": [
       "<Figure size 1080x360 with 1 Axes>"
      ]
     },
     "metadata": {},
     "output_type": "display_data"
    }
   ],
   "source": [
    "# Ajustando e validando um modelo\n",
    "def evaluate_model(X_train, y_train, X_test, y_test, n_filters):\n",
    "    verbose, epochs, batch_size = 0, 10, 32\n",
    "    n_timesteps, n_features, n_outputs = X_train.shape[1], X_train.shape[2], y_train.shape[1]\n",
    "    model = Sequential()\n",
    "    model.add(Conv1D(filters=n_filters, kernel_size=3, activation='relu', input_shape=(n_timesteps,n_features)))\n",
    "    model.add(Conv1D(filters=n_filters, kernel_size=3, activation='relu'))\n",
    "    model.add(Dropout(0.5))\n",
    "    model.add(MaxPooling1D(pool_size=2))\n",
    "    model.add(Flatten())\n",
    "    model.add(Dense(100, activation='relu'))\n",
    "    model.add(Dense(n_outputs, activation='softmax'))\n",
    "    model.compile(loss='categorical_crossentropy', optimizer='adam', metrics=['accuracy'])\n",
    "    # Ajustando a rede\n",
    "    model.fit(X_train, y_train, epochs=epochs, batch_size=batch_size, verbose=verbose)\n",
    "    # Validando o modelo\n",
    "    _, accuracy = model.evaluate(X_test, y_test, batch_size=batch_size, verbose=0)\n",
    "    return accuracy\n",
    " \n",
    "# Resumindo as pontuações\n",
    "def summarize_results(scores, params):\n",
    "    print(scores, params)\n",
    "    # Resumindo média e desvio padrão\n",
    "    for i in range(len(scores)):\n",
    "        m, s = mean(scores[i]), std(scores[i])\n",
    "        print('Param=%d: %.3f%% (+/-%.3f)' % (params[i], m, s))\n",
    "    # Boxplot das pontuações\n",
    "    pyplot.boxplot(scores, labels=params)\n",
    "    pyplot.savefig('exp_cnn_filters.png')\n",
    " \n",
    "# Rodando um experimento\n",
    "def run_experiment(params, repeats=10):\n",
    "    # Testando cada parâmetro\n",
    "    all_scores = list()\n",
    "    for p in params:\n",
    "        # Repetindo o experimento\n",
    "        scores = list()\n",
    "        for r in range(repeats):\n",
    "            score = evaluate_model(X_train, y_train, X_test, y_test, p)\n",
    "            score = score * 100.0\n",
    "            print('>p=%d #%d: %.3f' % (p, r+1, score))\n",
    "            scores.append(score)\n",
    "        all_scores.append(scores)\n",
    "    # Resumindo os resultados\n",
    "    summarize_results(all_scores, params)\n",
    " \n",
    "# Rodando os experimentos\n",
    "n_params = [8, 16, 32, 64, 128, 256]\n",
    "run_experiment(n_params)"
   ]
  },
  {
   "cell_type": "markdown",
   "metadata": {},
   "source": [
    "### Avaliando o hiperparâmetro \"kernel\""
   ]
  },
  {
   "cell_type": "code",
   "execution_count": 13,
   "metadata": {},
   "outputs": [
    {
     "name": "stdout",
     "output_type": "stream",
     "text": [
      ">p=2 #1: 73.028\n",
      ">p=2 #2: 77.014\n",
      ">p=2 #3: 77.354\n",
      ">p=2 #4: 75.912\n",
      ">p=2 #5: 78.626\n",
      ">p=2 #6: 76.166\n",
      ">p=2 #7: 74.215\n",
      ">p=2 #8: 77.099\n",
      ">p=2 #9: 73.367\n",
      ">p=2 #10: 77.608\n",
      ">p=3 #1: 76.081\n",
      ">p=3 #2: 72.858\n",
      ">p=3 #3: 75.233\n",
      ">p=3 #4: 75.573\n",
      ">p=3 #5: 72.858\n",
      ">p=3 #6: 74.300\n",
      ">p=3 #7: 75.318\n",
      ">p=3 #8: 73.282\n",
      ">p=3 #9: 78.117\n",
      ">p=3 #10: 78.202\n",
      ">p=5 #1: 71.756\n",
      ">p=5 #2: 78.202\n",
      ">p=5 #3: 76.675\n",
      ">p=5 #4: 77.099\n",
      ">p=5 #5: 77.863\n",
      ">p=5 #6: 75.064\n",
      ">p=5 #7: 68.278\n",
      ">p=5 #8: 74.640\n",
      ">p=5 #9: 73.791\n",
      ">p=5 #10: 76.421\n",
      "[[73.02798980166085, 77.0144190143184, 77.3536895825966, 75.91178966741424, 78.62595421363986, 76.16624264417815, 74.2154368765785, 77.09923662099926, 73.36726036993905, 77.60814250880526], [76.08142495155334, 72.85835460346568, 75.2332485814131, 75.57251906374736, 72.85835451752175, 74.30025451864803, 75.31806618809397, 73.28244281381343, 78.11704836122256, 78.20186603868079], [71.7557251706176, 78.20186605384735, 76.6751484460402, 77.0992367069432, 77.8625954350139, 75.06361321133006, 68.27820184576603, 74.63952508692624, 73.79134866623073, 76.42069551983155]] [2, 3, 5]\n",
      "Param=2: 76.039% (+/-1.803)\n",
      "Param=3: 75.182% (+/-1.841)\n",
      "Param=5: 74.979% (+/-2.915)\n"
     ]
    },
    {
     "data": {
      "image/png": "[encoded data removed]",
      "text/plain": [
       "<Figure size 1080x360 with 1 Axes>"
      ]
     },
     "metadata": {},
     "output_type": "display_data"
    }
   ],
   "source": [
    "# Ajustando e validando um modelo\n",
    "def evaluate_model(X_train, y_train, X_test, y_test, n_kernel):\n",
    "    verbose, epochs, batch_size = 0, 15, 32\n",
    "    n_timesteps, n_features, n_outputs = X_train.shape[1], X_train.shape[2], y_train.shape[1]\n",
    "    model = Sequential()\n",
    "    model.add(Conv1D(filters=64, kernel_size=n_kernel, activation='relu', input_shape=(n_timesteps,n_features)))\n",
    "    model.add(Conv1D(filters=64, kernel_size=n_kernel, activation='relu'))\n",
    "    model.add(Dropout(0.5))\n",
    "    model.add(MaxPooling1D(pool_size=2))\n",
    "    model.add(Flatten())\n",
    "    model.add(Dense(100, activation='relu'))\n",
    "    model.add(Dense(n_outputs, activation='softmax'))\n",
    "    model.compile(loss='categorical_crossentropy', optimizer='adam', metrics=['accuracy'])\n",
    "    # Ajustando a rede\n",
    "    model.fit(X_train, y_train, epochs=epochs, batch_size=batch_size, verbose=verbose)\n",
    "    # Validando o modelo\n",
    "    _, accuracy = model.evaluate(X_test, y_test, batch_size=batch_size, verbose=0)\n",
    "    return accuracy\n",
    " \n",
    "# Resumindo as pontuações\n",
    "def summarize_results(scores, params):\n",
    "    print(scores, params)\n",
    "    # Resumindo média e desvio padrão\n",
    "    for i in range(len(scores)):\n",
    "        m, s = mean(scores[i]), std(scores[i])\n",
    "        print('Param=%d: %.3f%% (+/-%.3f)' % (params[i], m, s))\n",
    "    # Boxplot das pontuações\n",
    "    pyplot.boxplot(scores, labels=params)\n",
    "    pyplot.savefig('exp_cnn_kernel[1].png')\n",
    " \n",
    "# Rodando um experimento\n",
    "def run_experiment(params, repeats=10):\n",
    "    # Testando cada parâmetro\n",
    "    all_scores = list()\n",
    "    for p in params:\n",
    "        # Repetindo o experimento\n",
    "        scores = list()\n",
    "        for r in range(repeats):\n",
    "            score = evaluate_model(X_train, y_train, X_test, y_test, p)\n",
    "            score = score * 100.0\n",
    "            print('>p=%d #%d: %.3f' % (p, r+1, score))\n",
    "            scores.append(score)\n",
    "        all_scores.append(scores)\n",
    "    # Resumindo os resultados\n",
    "    summarize_results(all_scores, params)\n",
    " \n",
    "# Rodando o experimento\n",
    "n_params = [2, 3, 5]\n",
    "run_experiment(n_params)"
   ]
  },
  {
   "cell_type": "markdown",
   "metadata": {},
   "source": [
    "### Avaliando um modelo \"Multi-head\""
   ]
  },
  {
   "cell_type": "code",
   "execution_count": 11,
   "metadata": {},
   "outputs": [
    {
     "name": "stdout",
     "output_type": "stream",
     "text": [
      ">#1: 73.367\n",
      ">#2: 72.519\n",
      ">#3: 73.028\n",
      ">#4: 75.318\n",
      ">#5: 72.943\n",
      ">#6: 76.421\n",
      ">#7: 72.604\n",
      ">#8: 75.997\n",
      ">#9: 73.367\n",
      ">#10: 75.064\n",
      "[73.36726036993905, 72.51908394924355, 73.02798985221611, 75.31806613753871, 72.9431721595913, 76.4206955703868, 72.60390164186835, 75.99660727409511, 73.36726035477248, 75.06361324671875]\n",
      "Accuracy: 74.063% (+/-1.403)\n"
     ]
    }
   ],
   "source": [
    "from numpy import mean\n",
    "from numpy import std\n",
    "from pandas import read_csv\n",
    "from matplotlib import pyplot\n",
    "from keras.models import Sequential\n",
    "from keras.layers import Dense\n",
    "from keras.layers import Flatten\n",
    "from keras.layers import Dropout\n",
    "from keras.layers.convolutional import Conv1D\n",
    "from keras.layers.convolutional import MaxPooling1D\n",
    "from keras.utils import to_categorical\n",
    "from keras.layers import Input\n",
    "from keras.models import Model\n",
    "from keras.utils.vis_utils import plot_model\n",
    "from keras.layers.merge import concatenate\n",
    "\n",
    "# Ajustando e validando um modelo\n",
    "def evaluate_model(X_train, y_train, X_test, y_test):\n",
    "    verbose, epochs, batch_size = 0, 10, 32\n",
    "    n_timesteps, n_features, n_outputs = X_train.shape[1], X_train.shape[2], y_train.shape[1]\n",
    "     # head 1\n",
    "    inputs1 = Input(shape=(n_timesteps,n_features))\n",
    "    conv1 = Conv1D(filters=64, kernel_size=3, activation='relu')(inputs1)\n",
    "    drop1 = Dropout(0.5)(conv1)\n",
    "    pool1 = MaxPooling1D(pool_size=2)(drop1)\n",
    "    flat1 = Flatten()(pool1)\n",
    "    # head 2\n",
    "    inputs2 = Input(shape=(n_timesteps,n_features))\n",
    "    conv2 = Conv1D(filters=64, kernel_size=5, activation='relu')(inputs2)\n",
    "    drop2 = Dropout(0.5)(conv2)\n",
    "    pool2 = MaxPooling1D(pool_size=2)(drop2)\n",
    "    flat2 = Flatten()(pool2)\n",
    "    # head 3\n",
    "    inputs3 = Input(shape=(n_timesteps,n_features))\n",
    "    conv3 = Conv1D(filters=64, kernel_size=11, activation='relu')(inputs3)\n",
    "    drop3 = Dropout(0.5)(conv3)\n",
    "    pool3 = MaxPooling1D(pool_size=2)(drop3)\n",
    "    flat3 = Flatten()(pool3)\n",
    "    # Combinação\n",
    "    merged = concatenate([flat1, flat2, flat3])\n",
    "    # Interpretação\n",
    "    dense1 = Dense(100, activation='relu')(merged)\n",
    "    outputs = Dense(n_outputs, activation='softmax')(dense1)\n",
    "    model = Model(inputs=[inputs1, inputs2, inputs3], outputs=outputs)\n",
    "    # Salvando uma imagem do modelo\n",
    "    plot_model(model, show_shapes=True, to_file='multichannel.png')\n",
    "    model.compile(loss='categorical_crossentropy', optimizer='adam', metrics=['accuracy'])\n",
    "    # Ajustando a rede\n",
    "    model.fit([X_train,X_train,X_train], y_train, epochs=epochs, batch_size=batch_size, verbose=verbose)\n",
    "    # Validando o modelo\n",
    "    _, accuracy = model.evaluate([X_test,X_test,X_test], y_test, batch_size=batch_size, verbose=0)\n",
    "    return accuracy\n",
    " \n",
    "# Resumindo as pontuações\n",
    "def summarize_results(scores):\n",
    "    print(scores)\n",
    "    m, s = mean(scores), std(scores)\n",
    "    print('Accuracy: %.3f%% (+/-%.3f)' % (m, s))\n",
    " \n",
    "# Rodando um experimento\n",
    "def run_experiment(repeats=10):\n",
    "    # Repetindo o experimento\n",
    "    scores = list()\n",
    "    for r in range(repeats):\n",
    "        score = evaluate_model(X_train, y_train, X_test, y_test)\n",
    "        score = score * 100.0\n",
    "        print('>#%d: %.3f' % (r+1, score))\n",
    "        scores.append(score)\n",
    "    # Resumindo os resultados\n",
    "    summarize_results(scores)\n",
    " \n",
    "# Rodando o experimento\n",
    "run_experiment()"
   ]
  },
  {
   "cell_type": "markdown",
   "metadata": {},
   "source": [
    "### Avaliando o hiperparâmetro \"epochs\""
   ]
  },
  {
   "cell_type": "code",
   "execution_count": 12,
   "metadata": {},
   "outputs": [
    {
     "name": "stdout",
     "output_type": "stream",
     "text": [
      ">p=10 #1: 71.756\n",
      ">p=10 #2: 72.519\n",
      ">p=10 #3: 75.488\n",
      ">p=10 #4: 73.113\n",
      ">p=10 #5: 75.064\n",
      ">p=10 #6: 72.858\n",
      ">p=10 #7: 74.555\n",
      ">p=10 #8: 75.318\n",
      ">p=10 #9: 72.265\n",
      ">p=10 #10: 75.573\n",
      ">p=20 #1: 76.421\n",
      ">p=20 #2: 75.488\n",
      ">p=20 #3: 75.657\n",
      ">p=20 #4: 79.135\n",
      ">p=20 #5: 80.407\n",
      ">p=20 #6: 79.050\n",
      ">p=20 #7: 77.778\n",
      ">p=20 #8: 80.068\n",
      ">p=20 #9: 78.287\n",
      ">p=20 #10: 75.997\n",
      ">p=40 #1: 83.036\n",
      ">p=40 #2: 80.577\n",
      ">p=40 #3: 82.188\n",
      ">p=40 #4: 81.764\n",
      ">p=40 #5: 80.322\n",
      ">p=40 #6: 82.103\n",
      ">p=40 #7: 80.492\n",
      ">p=40 #8: 78.796\n",
      ">p=40 #9: 80.831\n",
      ">p=40 #10: 82.188\n",
      ">p=80 #1: 83.630\n",
      ">p=80 #2: 87.447\n",
      ">p=80 #3: 85.327\n",
      ">p=80 #4: 85.157\n",
      ">p=80 #5: 85.411\n",
      ">p=80 #6: 85.666\n",
      ">p=80 #7: 85.072\n",
      ">p=80 #8: 84.818\n",
      ">p=80 #9: 82.867\n",
      ">p=80 #10: 86.175\n",
      "[[71.75572525656152, 72.51908394924355, 75.48770140651123, 73.11280749428566, 75.06361321133006, 72.85835451752175, 74.55470739430143, 75.31806613753871, 72.26463110897883, 75.57251909913603], [76.42069551983155, 75.48770150762174, 75.65733679176084, 79.13486006605717, 80.40712469710041, 79.0500424239876, 77.77777779294436, 80.06785412882222, 78.28668369591692, 75.99660736003905], [83.03647160125648, 80.57675998123952, 82.18829518056097, 81.76420693482454, 80.32230705503088, 82.1034775738801, 80.49194228861471, 78.79558949777896, 80.83121295800343, 82.18829513000573], [83.63019504518809, 87.44698893831784, 85.32654793713435, 85.15691260243999, 85.41136557920389, 85.66581845485729, 85.0720950109257, 84.81764208471704, 82.86683631711739, 86.1747243072746]] [10, 20, 40, 80]\n",
      "Param=10: 73.851% (+/-1.413)\n",
      "Param=20: 77.829% (+/-1.749)\n",
      "Param=40: 81.230% (+/-1.184)\n",
      "Param=80: 85.157% (+/-1.197)\n"
     ]
    },
    {
     "data": {
      "image/png": "[encoded data removed]",
      "text/plain": [
       "<Figure size 1080x360 with 1 Axes>"
      ]
     },
     "metadata": {},
     "output_type": "display_data"
    }
   ],
   "source": [
    "# Ajustando e validando um modelo\n",
    "def evaluate_model(X_train, y_train, X_test, y_test, n_epochs):\n",
    "    verbose, epochs, batch_size = 0, n_epochs, 32\n",
    "    n_timesteps, n_features, n_outputs = X_train.shape[1], X_train.shape[2], y_train.shape[1]\n",
    "    model = Sequential()\n",
    "    model.add(Conv1D(filters=64, kernel_size=3, activation='relu', input_shape=(n_timesteps,n_features)))\n",
    "    model.add(Conv1D(filters=64, kernel_size=3, activation='relu'))\n",
    "    model.add(Dropout(0.5))\n",
    "    model.add(MaxPooling1D(pool_size=2))\n",
    "    model.add(Flatten())\n",
    "    model.add(Dense(100, activation='relu'))\n",
    "    model.add(Dense(n_outputs, activation='softmax'))\n",
    "    model.compile(loss='categorical_crossentropy', optimizer='adam', metrics=['accuracy'])\n",
    "    # Ajustando a rede\n",
    "    model.fit(X_train, y_train, epochs=epochs, batch_size=batch_size, verbose=verbose)\n",
    "    # Validando o modelo\n",
    "    _, accuracy = model.evaluate(X_test, y_test, batch_size=batch_size, verbose=0)\n",
    "    return accuracy\n",
    " \n",
    "# Resumindo as pontuações\n",
    "def summarize_results(scores, params):\n",
    "    print(scores, params)\n",
    "    # Resumindo média e desvio padrão\n",
    "    for i in range(len(scores)):\n",
    "        m, s = mean(scores[i]), std(scores[i])\n",
    "        print('Param=%d: %.3f%% (+/-%.3f)' % (params[i], m, s))\n",
    "    # Boxplot das pontuações\n",
    "    pyplot.boxplot(scores, labels=params)\n",
    "    pyplot.savefig('exp_cnn_epochs[1].png')\n",
    " \n",
    "# Rodando um experimento\n",
    "def run_experiment(params, repeats=10):\n",
    "    # Testando cada parâmetro\n",
    "    all_scores = list()\n",
    "    for p in params:\n",
    "        # Repetindo o experimento\n",
    "        scores = list()\n",
    "        for r in range(repeats):\n",
    "            score = evaluate_model(X_train, y_train, X_test, y_test, p)\n",
    "            score = score * 100.0\n",
    "            print('>p=%d #%d: %.3f' % (p, r+1, score))\n",
    "            scores.append(score)\n",
    "        all_scores.append(scores)\n",
    "    # Resumindo os resultados\n",
    "    summarize_results(all_scores, params)\n",
    " \n",
    "# Rodando o experimento\n",
    "n_params = [10, 20, 40, 80]\n",
    "run_experiment(n_params)"
   ]
  },
  {
   "cell_type": "markdown",
   "metadata": {},
   "source": [
    "### Avaliando o hiperparâmetro \"Batch size\""
   ]
  },
  {
   "cell_type": "code",
   "execution_count": 13,
   "metadata": {},
   "outputs": [
    {
     "name": "stdout",
     "output_type": "stream",
     "text": [
      ">p=32 #1: 78.372\n",
      ">p=32 #2: 76.675\n",
      ">p=32 #3: 75.573\n",
      ">p=32 #4: 74.300\n",
      ">p=32 #5: 75.573\n",
      ">p=32 #6: 78.541\n",
      ">p=32 #7: 73.367\n",
      ">p=32 #8: 72.265\n",
      ">p=32 #9: 77.354\n",
      ">p=32 #10: 72.943\n",
      ">p=64 #1: 76.930\n",
      ">p=64 #2: 74.640\n",
      ">p=64 #3: 77.608\n",
      ">p=64 #4: 75.827\n",
      ">p=64 #5: 73.367\n",
      ">p=64 #6: 74.894\n",
      ">p=64 #7: 73.791\n",
      ">p=64 #8: 71.501\n",
      ">p=64 #9: 74.555\n",
      ">p=64 #10: 71.756\n",
      ">p=128 #1: 72.519\n",
      ">p=128 #2: 73.198\n",
      ">p=128 #3: 72.010\n",
      ">p=128 #4: 72.519\n",
      ">p=128 #5: 72.010\n",
      ">p=128 #6: 69.042\n",
      ">p=128 #7: 72.858\n",
      ">p=128 #8: 72.349\n",
      ">p=128 #9: 69.805\n",
      ">p=128 #10: 73.791\n",
      "[[78.37150128743122, 76.6751484460402, 75.5725191496913, 74.30025443270411, 75.57251906374736, 78.54113657157032, 73.36726045588298, 72.26463110897883, 77.35368954720792, 72.94317224553524], [76.92960137224884, 74.63952508692624, 77.60814250880526, 75.82697207589995, 73.36726036993905, 74.89397801313488, 73.79134858028681, 71.5012722949642, 74.55470735891275, 71.75572525656152], [72.51908394924355, 73.19762508579996, 72.01017818277018, 72.51908399979881, 72.0101781473815, 69.04156062439198, 72.85835451752175, 72.34944875104837, 69.80491940301793, 73.79134866623073]] [32, 64, 128]\n",
      "Param=32: 75.496% (+/-2.129)\n",
      "Param=64: 74.487% (+/-1.892)\n",
      "Param=128: 72.010% (+/-1.400)\n"
     ]
    },
    {
     "data": {
      "image/png": "[encoded data removed]",
      "text/plain": [
       "<Figure size 1080x360 with 1 Axes>"
      ]
     },
     "metadata": {},
     "output_type": "display_data"
    }
   ],
   "source": [
    "# Ajustando e validando um modelo\n",
    "def evaluate_model(X_train, y_train, X_test, y_test, n_batch_size):\n",
    "    verbose, epochs, batch_size = 0, 15, n_batch_size\n",
    "    n_timesteps, n_features, n_outputs = X_train.shape[1], X_train.shape[2], y_train.shape[1]\n",
    "    model = Sequential()\n",
    "    model.add(Conv1D(filters=64, kernel_size=3, activation='relu', input_shape=(n_timesteps,n_features)))\n",
    "    model.add(Conv1D(filters=64, kernel_size=3, activation='relu'))\n",
    "    model.add(Dropout(0.5))\n",
    "    model.add(MaxPooling1D(pool_size=2))\n",
    "    model.add(Flatten())\n",
    "    model.add(Dense(100, activation='relu'))\n",
    "    model.add(Dense(n_outputs, activation='softmax'))\n",
    "    model.compile(loss='categorical_crossentropy', optimizer='adam', metrics=['accuracy'])\n",
    "    # Ajustando a rede\n",
    "    model.fit(X_train, y_train, epochs=epochs, batch_size=batch_size, verbose=verbose)\n",
    "    # Validando o modelo\n",
    "    _, accuracy = model.evaluate(X_test, y_test, batch_size=batch_size, verbose=0)\n",
    "    return accuracy\n",
    " \n",
    "# Resumindo as pontuações\n",
    "def summarize_results(scores, params):\n",
    "    print(scores, params)\n",
    "    # Resumindo média e desvio padrão\n",
    "    for i in range(len(scores)):\n",
    "        m, s = mean(scores[i]), std(scores[i])\n",
    "        print('Param=%d: %.3f%% (+/-%.3f)' % (params[i], m, s))\n",
    "    # Boxplot das pontuações\n",
    "    pyplot.boxplot(scores, labels=params)\n",
    "    pyplot.savefig('exp_cnn_batch_size[1].png')\n",
    " \n",
    "# Rodando um experimento\n",
    "def run_experiment(params, repeats=10):\n",
    "    # Testando cada parâmetro\n",
    "    all_scores = list()\n",
    "    for p in params:\n",
    "        # Repetindo experimento\n",
    "        scores = list()\n",
    "        for r in range(repeats):\n",
    "            score = evaluate_model(X_train, y_train, X_test, y_test, p)\n",
    "            score = score * 100.0\n",
    "            print('>p=%d #%d: %.3f' % (p, r+1, score))\n",
    "            scores.append(score)\n",
    "        all_scores.append(scores)\n",
    "    # Resumindo resultados\n",
    "    summarize_results(all_scores, params)\n",
    " \n",
    "# Rodando o experimento\n",
    "n_params = [32, 64, 128]\n",
    "run_experiment(n_params)"
   ]
  },
  {
   "cell_type": "markdown",
   "metadata": {},
   "source": [
    "### Modelo final\n",
    "Após a avaliação do comportamento do modelo com os diversos valores para os hiperparâmetros, foram escolhidos os valores para o modelo final."
   ]
  },
  {
   "cell_type": "code",
   "execution_count": 18,
   "metadata": {},
   "outputs": [
    {
     "name": "stdout",
     "output_type": "stream",
     "text": [
      ">#1: 82.443\n",
      ">#2: 84.987\n",
      ">#3: 84.733\n",
      ">#4: 84.139\n",
      ">#5: 87.108\n",
      ">#6: 83.206\n",
      ">#7: 83.121\n",
      ">#8: 85.496\n",
      ">#9: 87.956\n",
      ">#10: 84.478\n",
      "[82.44274810676963, 84.98727736885614, 84.73282447803618, 84.13910089760539, 87.10771840542833, 83.20610687022901, 83.12128927871471, 85.49618325666214, 87.95589479073516, 84.47837151643884]\n",
      "Accuracy: 84.767% (+/-1.651)\n"
     ]
    }
   ],
   "source": [
    "from keras import regularizers\n",
    "# Ajustando e validando um modelo\n",
    "def evaluate_model(X_train, y_train, X_test, y_test):\n",
    "    verbose, epochs, batch_size = 0, 80, 32\n",
    "    n_timesteps, n_features, n_outputs = X_train.shape[1], X_train.shape[2], y_train.shape[1]\n",
    "    model = Sequential()\n",
    "    model.add(Conv1D(2,2,activation='relu',input_shape=(33, 1)))\n",
    "    model.add(Conv1D(filters=128, kernel_size=3, activation='relu', input_shape=(n_timesteps,n_features)))\n",
    "    model.add(Conv1D(filters=128, kernel_size=3, activation='relu'))\n",
    "    model.add(Dropout(0.5))\n",
    "    model.add(MaxPooling1D(pool_size=2))\n",
    "    model.add(Flatten())\n",
    "    model.add(Dense(100, activation='relu', kernel_regularizer=regularizers.l2(0.001)))\n",
    "    model.add(Dense(n_outputs, activation='softmax'))\n",
    "    model.compile(loss='categorical_crossentropy', optimizer='adam', metrics=['accuracy'])\n",
    "    # Ajustando a rede\n",
    "    model.fit(X_train, y_train, epochs=epochs, batch_size=batch_size, verbose=verbose)\n",
    "    # Validando o modelo\n",
    "    _, accuracy = model.evaluate(X_test, y_test, batch_size=batch_size, verbose=0)\n",
    "    return accuracy\n",
    "\n",
    "# Resumindo as pontuações\n",
    "def summarize_results(scores):\n",
    "    print(scores)\n",
    "    m, s = mean(scores), std(scores)\n",
    "    print('Accuracy: %.3f%% (+/-%.3f)' % (m, s))\n",
    "\n",
    "# Rodando um experimento\n",
    "def run_experiment(repeats=10):\n",
    "    # Repetindo o experimento\n",
    "    scores = list()\n",
    "    for r in range(repeats):\n",
    "        score = evaluate_model(X_train, y_train, X_test, y_test)\n",
    "        score = score * 100.0\n",
    "        print('>#%d: %.3f' % (r+1, score))\n",
    "        scores.append(score)\n",
    "    # Resumindo os resultados\n",
    "    summarize_results(scores)\n",
    "\n",
    "# Rodando o experimento\n",
    "run_experiment()"
   ]
  }
 ],
 "metadata": {
  "kernelspec": {
   "display_name": "conda_python3",
   "language": "python",
   "name": "conda_python3"
  },
  "language_info": {
   "codemirror_mode": {
    "name": "ipython",
    "version": 3
   },
   "file_extension": ".py",
   "mimetype": "text/x-python",
   "name": "python",
   "nbconvert_exporter": "python",
   "pygments_lexer": "ipython3",
   "version": "3.6.5"
  }
 },
 "nbformat": 4,
 "nbformat_minor": 2
}
